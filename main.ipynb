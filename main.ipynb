{
 "cells": [
  {
   "cell_type": "code",
   "execution_count": 99,
   "id": "aef1b3a8",
   "metadata": {
    "scrolled": true
   },
   "outputs": [],
   "source": [
    "import pandas as pd\n",
    "import numpy as np\n",
    "import pandas as pd\n",
    "\n",
    "file_path = \"F23_pre_post_cleaned/F23_pre_post_cleaned.csv\"\n",
    "df = pd.read_csv(file_path, encoding='ISO-8859-1')  # or 'Windows-1252'\n"
   ]
  },
  {
   "cell_type": "code",
   "execution_count": 100,
   "id": "a2c3167e",
   "metadata": {
    "scrolled": true
   },
   "outputs": [],
   "source": [
    "df.drop(columns=['ID',\\\n",
    "                 'pre_After reading the participant information on Quercus, please select one of the following:'], inplace=True)\n"
   ]
  },
  {
   "cell_type": "code",
   "execution_count": 101,
   "id": "519da63e",
   "metadata": {},
   "outputs": [],
   "source": [
    "# df.columns.tolist()"
   ]
  },
  {
   "cell_type": "code",
   "execution_count": 102,
   "id": "f889af22",
   "metadata": {},
   "outputs": [],
   "source": [
    "df.rename(columns={\n",
    "    'pre_Are you a first-year student?': 'first_year',\n",
    "    'pre_Are you an international student?': 'international',\n",
    "    'pre_Is English your first language?': 'english_first_language',\n",
    "    'pre_Please tick all that apply. You are:': 'races',\n",
    "    'pre_What first-year calculus course have you taken or are you currently taking?': 'calculus_course',\n",
    "    'pre_Have you taken or are you taking a first-year programming course?': 'programming_course',\n",
    "    'pre_In what statistics program of study have you enrolled or would you like to enrol in (select your first choice)?': 'statistics_program',\n",
    "    'pre_How would you describe your professional writing ability?': 'pre_professional_writing_ability',\n",
    "    'pre_What is your experience with programming?': 'pre_programming_experience',\n",
    "    'pre_What is your experience with the Python programming language?': 'pre_python_experience',\n",
    "    'pre_How do you evaluate your skill level at Python programming?': 'pre_python_skill_level',\n",
    "    'pre_How effectively do you feel you can perform statistical data analysis with Python?\\n': 'pre_stats_efficiency_in_python',\n",
    "    'pre_Which of the following statements best describe your feelings about the use of Python for STA130? Select all that apply.': 'pre_feeling_for_python_sta130',\n",
    "    'pre_Which of the following statements best describe your feelings about learning to code in Python in STA130? Select all that apply.': 'pre_feeling_learning_python_sta130',\n",
    "    'pre_Which of the following statements best describes your feelings about learning to code in general?\\xa0\\n': 'pre_feeling_learning_to_code_general',\n",
    "    'pre_participation_indicator': 'participation_indicator',\n",
    "    'post_Approximately how many total hours per week on average did you spend on STA130 this semester?': 'hours_per_week_sta130',\n",
    "    'post_Approximately how many total hours per week on average did you spend completing STA130 assignments (not counting general studying or attending or reviewing class meetings)?': 'hours_per_week_assignments',\n",
    "    'post_Which of the following did you routinely utilize and find helpful in supporting your ability to learn Python as part of STA130? (You may select more than one)': 'helpful_tool_python_sta130',\n",
    "    'post_Which of the following did you find to be the MOST helpful and supportive in terms of performing well in STA130 overall?\\xa0(You may select more than one)\\n': 'helpful_tool_sta130_general',\n",
    "    'post_Which aspects of STA130 do you think were the\\xa0LEAST helpful and supportive for student success in the class?\\xa0(You may select more than one)\\n': 'least_helpful_tool',\n",
    "    'post_How do you evaluate your skill level at Python programming?': 'post_python_skill_level',\n",
    "    'post_How successful were you in learning Python this semester?': 'post_success_learning_python',\n",
    "    'post_How much has your skill at Python programming increased since the\\xa0beginning of the semester?': 'post_increase_python_skill',\n",
    "    'post_Which of the following statements best describes your feelings about learning to code in general?\\n': 'post_feelings_learning_code_general',\n",
    "    'post_Which of the following statements best describes your assessment of the amount of resources available in STA130 to support your ability to learn to code in Python?\\n': 'assessment_coding_resources_sta130',\n",
    "    'post_Has STA130 jump-started and fostered your ability to learn python?': 'sta130_jump_started_python',\n",
    "    'post_Is it helpful to have previous experience with computer programming or simultaneously take a computer programming course to do well in STA130?\\n': 'programming_experience_required',\n",
    "    'post_Did you enjoy learning statistical and data science concepts based on first introducing them through Python?': 'enjoyed_stats_python',\n",
    "    'post_Through your experience with the course project and other course (or non-course) activities,\\xa0how effectively do you feel you can perform statistical data analysis with Python?': 'effective_stats_analysis_python',\n",
    "    'post_How much do you feel your skill at performing statistical data analysis with Python has improved since the beginning of the semester?': 'improvement_stats_skill_python',\n",
    "    'post_How strong is your sense of community and belonging here at UofT?': 'community_belonging_uoft',\n",
    "    'post_How strong is your sense of community and belonging in STA130?': 'community_belonging_sta130',\n",
    "    'post_How helpful has STA130 been in helping you develop a sense of community and belonging at UofT?': 'sta130_helped_community_belonging',\n",
    "    'post_What aspects of the STA130 course contributed to and supported developing a sense of community and belonging here at UofT?\\xa0(You may select more than one)\\n': 'sta130_community_support_aspects',\n",
    "    'post_How would you describe your professional writing ability?': 'post_professional_writing_ability',\n",
    "    'post_How helpful were the weekly writing assignments (in the Weekly Homeworks and Tutorial Activities and Assignments) for the development of your professional writing ability?': 'writing_assignments_helped_professional_writing',\n",
    "    'post_How helpful was the course project and related activities and assignments in giving you an opportunity to apply your communication skills?': 'project_helped_communication_skills',\n",
    "    'post_What aspects of the course contributed MOST to the development of your professional writing ability?\\xa0(You may select more than one)\\n': 'course_aspects_helped_professional_writing',\n",
    "    'post_Describe the purpose of statistical inference (for example, testing and confidence intervals)': 'describe_statistical_inference_purpose',\n",
    "    'post_Applying statistical methods for description, prediction and inference': 'apply_statistical_methods',\n",
    "    'post_Visualizing data': 'visualizing_data',\n",
    "    'post_Use simulation to solve a variety of problems with data': 'use_simulation',\n",
    "    'post_Manipulating and \"wrangling\" data': 'manipulating_wrangling_data',\n",
    "    'post_Using Python for data analysis': 'using_python_data_analysis',\n",
    "    'post_Communicating in writing to both statisticians and non-statisticians': 'communicating_in_writing',\n",
    "    'post_Communicating orally to both statisticians and non-statisticians': 'communicating_orally',\n",
    "    'post_Translating practical problems into statistical terms and vice versa': 'translate_problems_statistical_terms',\n",
    "    'post_Describing how ethical practice is important in statistical work': 'ethical_practice_importance',\n",
    "    'post_Using statistical knowledge to solve problems in other disciplines': 'using_stats_other_disciplines',\n",
    "    'post_Understanding statistical analysis as a problem-solving process (i.e. from study design through data exploration and analysis through communication of results)': 'stats_problem_solving_process',\n",
    "    'post_Evaluating strengths and limitations of solutions to statistical problems': 'evaluating_stats_solutions',\n",
    "    'post_What was the most interesting part of this course?': 'most_interesting_part',\n",
    "    'post_What would you add or what would you change about the course?': 'suggested_course_changes'\n",
    "}, inplace=True)\n"
   ]
  },
  {
   "cell_type": "code",
   "execution_count": 103,
   "id": "a25dea17",
   "metadata": {},
   "outputs": [],
   "source": [
    "df_2023_short_col_name = df\n",
    "\n",
    "# df_2023_short_col_name.head()\n",
    "# now 2023 data is ready "
   ]
  },
  {
   "cell_type": "code",
   "execution_count": 104,
   "id": "ace4bc1c",
   "metadata": {},
   "outputs": [],
   "source": [
    "orientation = pd.read_csv('weekly_surveys_raw/STA130_2024_orientation_survey.csv')\n",
    "wk02 = pd.read_csv('weekly_surveys_raw/STA130_2024_week_02_survey.csv')\n",
    "# orientation.head()"
   ]
  },
  {
   "cell_type": "code",
   "execution_count": 105,
   "id": "1fb5fda7",
   "metadata": {},
   "outputs": [],
   "source": [
    "# orientation.columns\n"
   ]
  },
  {
   "cell_type": "code",
   "execution_count": 106,
   "id": "1160c9f4",
   "metadata": {},
   "outputs": [],
   "source": [
    "# wk02.columns\n"
   ]
  },
  {
   "cell_type": "code",
   "execution_count": 107,
   "id": "b8b8c259",
   "metadata": {},
   "outputs": [],
   "source": [
    "orientation.drop(columns=['section','section_id','section_sis_id', \n",
    "                          'submitted','attempt','1.0','1.0.1','1.0.2', \n",
    "                          '1.0.3','1.0.4','1.0.5','0.0','n correct', 'n incorrect','score'], inplace=True)\n",
    "wk02.drop(columns=['section','section_id','section_sis_id', \n",
    "                          'submitted','attempt','1.0','1.0.1','1.0.2', \n",
    "                          '1.0.3','1.0.4','1.0.5','1.0.6','n correct', 'n incorrect','score'], inplace=True)\n"
   ]
  },
  {
   "cell_type": "code",
   "execution_count": 108,
   "id": "3eedb211",
   "metadata": {},
   "outputs": [
    {
     "data": {
      "text/plain": [
       "Index(['4389717: Orientation Question 01\\r\\nWhich AI ChatBots do you use regularly?',\n",
       "       '4489823: Orientation Question 01 (follow up)\\r\\nIf you answered \"Other\" above, which (and perhaps why, if you'd like to share)?',\n",
       "       '4489822: Orientation Question 02\\r\\nHow much do you rely on AI ChatBots?',\n",
       "       '4389718: Orientation Question 03\\r\\nHave you ever used ChatBot to help with coding?',\n",
       "       '4421347: Orientation Question 04\\r\\nDo you think a ChatBot could help support someone doing the kind of statistical and data science analyses taught in STA130?',\n",
       "       '4389719: Orientation Question 05\\r\\nDo you think a ChatBot could contribute significantly to your learning process and experience in STA130?',\n",
       "       '4389725: Orientation Question 06\\r\\nWhat is your main concern about taking STA130?'],\n",
       "      dtype='object')"
      ]
     },
     "execution_count": 108,
     "metadata": {},
     "output_type": "execute_result"
    }
   ],
   "source": [
    "orientation.columns"
   ]
  },
  {
   "cell_type": "code",
   "execution_count": 109,
   "id": "80e1f4b3",
   "metadata": {},
   "outputs": [],
   "source": [
    "orientation.rename(columns={\n",
    "    orientation.columns[0]: 'which_chatbots',\n",
    "    orientation.columns[1]: 'other_chatbots',\n",
    "    orientation.columns[2]: 'rely_on_chatbot',\n",
    "    orientation.columns[3]: 'chatbot_for_coding',\n",
    "    orientation.columns[4]: 'agree_chatbot_help_sta130',\n",
    "    orientation.columns[5]: 'agree_chatbot_help_you',\n",
    "    orientation.columns[6]: 'concerns'\n",
    "}, inplace=True)\n",
    "\n",
    "\n",
    "# orientation.head()"
   ]
  },
  {
   "cell_type": "code",
   "execution_count": 110,
   "id": "037cf73c",
   "metadata": {},
   "outputs": [
    {
     "data": {
      "text/plain": [
       "Index(['4389967: Question 01\\r\\nWhich ChatBot(s) do you tend to use consistently and generally find helpful or useful for STA130?',\n",
       "       '4489824: Question 01 (follow up)\\r\\nIf you answered \"Other\" above, which do you use (and perhaps why, if you'd like to share)?',\n",
       "       '4421351: Question 02 (Week 02)\\r\\nWhich of these topics will your feedback address? And are your responses based on using ChatGPT or the STA130 custom NBLMChatBot?\\r\\n\\r\\n\"My feedback will be about my experience using a ChatBot for the purposes of...\"\\r\\n\\r\\nWe're just looking for you to highlight particular aspects of your experience that stood out to you. The options here might not be perfect, but we're hoping they provide enough expressivity for you to give us feedback where it makes sense to you.\\r\\n✌️🤞',\n",
       "       '4389974: Question 03 (Accuracy)\\r\\nDid the ChatBot provide helpful guidance and working code?',\n",
       "       '4389979: Question 04 (Troubleshooting)\\r\\nIs the ChatBot able to fix programming problemsin two or fewer prompts based on code error messages?',\n",
       "       '4389982: Question 05 (Focus)\\r\\nWas the scope of the responses of the ChatBot appropriately constrained and sufficientlytargetedon the desired information?',\n",
       "       '4421439: Further comments or clarifications?\\r\\nFeel free togive us any other details, clarifications, or additional feedback that you feel might be relevant or worth sharing!Any comments provided here will be reviewed and helpful for our ongoing evaluations of ChatBots in the STA130 context.\\r\\n'],\n",
       "      dtype='object')"
      ]
     },
     "execution_count": 110,
     "metadata": {},
     "output_type": "execute_result"
    }
   ],
   "source": [
    "wk02.columns"
   ]
  },
  {
   "cell_type": "code",
   "execution_count": 111,
   "id": "ac1a81d3",
   "metadata": {},
   "outputs": [],
   "source": [
    "wk02.rename(columns={\n",
    "    wk02.columns[0]: 'which_chatbots',\n",
    "    wk02.columns[1]: 'other_chatbots',\n",
    "    wk02.columns[2]: 'feedback_target',\n",
    "    wk02.columns[3]: 'accuracy',\n",
    "    wk02.columns[4]: 'troubleshooting',\n",
    "    wk02.columns[5]: 'focus',\n",
    "    wk02.columns[6]: 'additional_feedback'\n",
    "}, inplace=True)\n",
    "\n",
    "# wk02.head()"
   ]
  },
  {
   "cell_type": "code",
   "execution_count": 112,
   "id": "4344603f",
   "metadata": {},
   "outputs": [],
   "source": [
    "wk03 = pd.read_csv('weekly_surveys_raw/STA130_2024_week_03_survey.csv')\n",
    "# wk03.columns"
   ]
  },
  {
   "cell_type": "code",
   "execution_count": 113,
   "id": "49f794b6",
   "metadata": {},
   "outputs": [],
   "source": [
    "wk03.drop(columns=['section','section_id','section_sis_id', \n",
    "                          'submitted','attempt','1.0','1.0.1','1.0.2', \n",
    "                          '1.0.3','1.0.4','1.0.5','1.0.6','n correct', 'n incorrect','score'], inplace=True)\n",
    "# wk03.columns"
   ]
  },
  {
   "cell_type": "code",
   "execution_count": 114,
   "id": "9942f3d7",
   "metadata": {},
   "outputs": [],
   "source": [
    "wk03.rename(columns={\n",
    "    wk03.columns[0]: 'which_chatbots',\n",
    "    wk03.columns[1]: 'other_chatbots',\n",
    "    wk03.columns[2]: 'feedback_target',\n",
    "    wk03.columns[3]: 'five_star_scale',\n",
    "    wk03.columns[4]: 'learning_support',\n",
    "    wk03.columns[5]: 'focus',\n",
    "    wk03.columns[6]: 'additional_feedback'\n",
    "}, inplace=True)\n",
    "\n",
    "# wk03.head()"
   ]
  },
  {
   "cell_type": "code",
   "execution_count": 115,
   "id": "e7617109",
   "metadata": {},
   "outputs": [
    {
     "data": {
      "text/plain": [
       "Index(['section', 'section_id', 'section_sis_id', 'submitted', 'attempt',\n",
       "       '4390022: Question 01\\r\\nWhich ChatBot(s) do you tend to use consistently and generally find helpful or useful for STA130?',\n",
       "       '1.0',\n",
       "       '4489827: Question 01 (follow up)\\r\\nIf you answered \"Other\" above, which (and perhaps why, if you'd like to share)?',\n",
       "       '1.0.1',\n",
       "       '4390090: Question 02 (Week 04)\\r\\nWhich of these topics will your feedback address? And are your responses based on using ChatGPT or the STA130 custom NBLMChatBot?\\r\\n\\r\\n    \"My feedback will be about my experience using a ChatBot for the purposes of...\"\\r\\n\\r\\nWe're just looking for you to highlight particular aspects of your experience that stood out to you. The options here might not be perfect, but we're hoping they provide enough expressivity for you to give us feedback where it makes sense to you.\\r\\n✌️🤞',\n",
       "       '1.0.2',\n",
       "       '4390026: Question 03 (Accuracy)\\r\\nDid the ChatBot provide helpful guidance and working code?',\n",
       "       '1.0.3',\n",
       "       '4390082: Question 04 (Troubleshooting)\\r\\nIs the ChatBot able to fix programming problemsin two or fewer prompts based on code error messages?',\n",
       "       '1.0.4',\n",
       "       '4390087: Question 05 (Focus)\\r\\nWas the scope of the responses of the ChatBot appropriately constrained and sufficientlytargetedon the desired information?',\n",
       "       '1.0.5',\n",
       "       '4390094: Further comments or clarifications?\\r\\nFeel free togive us any other details, clarifications, or additional feedback that you feel might be relevant or worth sharing!Any comments provided here will be reviewed and helpful for our ongoing evaluations of ChatBots in the STA130 context.\\r\\n',\n",
       "       '1.0.6', 'n correct', 'n incorrect', 'score'],\n",
       "      dtype='object')"
      ]
     },
     "execution_count": 115,
     "metadata": {},
     "output_type": "execute_result"
    }
   ],
   "source": [
    "wk04 = pd.read_csv('weekly_surveys_raw/STA130_2024_week_04_survey.csv')\n",
    "wk04.columns"
   ]
  },
  {
   "cell_type": "code",
   "execution_count": 116,
   "id": "4338bd5a",
   "metadata": {},
   "outputs": [],
   "source": [
    "wk04.drop(columns=['section','section_id','section_sis_id', \n",
    "                          'submitted','attempt','1.0','1.0.1','1.0.2', \n",
    "                          '1.0.3','1.0.4','1.0.5','1.0.6','n correct', 'n incorrect','score'], inplace=True)\n",
    "\n",
    "wk04.rename(columns={\n",
    "    wk04.columns[0]: 'which_chatbots',\n",
    "    wk04.columns[1]: 'other_chatbots',\n",
    "    wk04.columns[2]: 'feedback_target',\n",
    "    wk04.columns[3]: 'accuracy',\n",
    "    wk04.columns[4]: 'troubleshooting',\n",
    "    wk04.columns[5]: 'focus',\n",
    "    wk04.columns[6]: 'additional_feedback'\n",
    "}, inplace=True)\n",
    "\n",
    "\n",
    "# wk04.head()\n",
    "\n"
   ]
  },
  {
   "cell_type": "code",
   "execution_count": 117,
   "id": "60c12fc0",
   "metadata": {},
   "outputs": [],
   "source": [
    "wk05= pd.read_csv('weekly_surveys_raw/STA130_2024_week_05_survey.csv')\n",
    "# wk05.columns"
   ]
  },
  {
   "cell_type": "code",
   "execution_count": 118,
   "id": "872b3cf8",
   "metadata": {},
   "outputs": [],
   "source": [
    "wk05.drop(columns=['section','section_id','section_sis_id', \n",
    "                          'submitted','attempt','1.0','1.0.1','1.0.2', \n",
    "                          '1.0.3','1.0.4','1.0.5','n correct', 'n incorrect','score'], inplace=True)\n",
    "# wk05.columns"
   ]
  },
  {
   "cell_type": "code",
   "execution_count": 119,
   "id": "ed9f381b",
   "metadata": {},
   "outputs": [],
   "source": [
    "wk05.rename(columns={\n",
    "    wk05.columns[0]: 'which_chatbots',\n",
    "    wk05.columns[1]: 'feedback_target',\n",
    "    wk05.columns[2]: 'five_star_scale',\n",
    "    wk05.columns[3]: 'learning_support',\n",
    "    wk05.columns[4]: 'focus',\n",
    "    wk05.columns[5]: 'additional_feedback'\n",
    "}, inplace=True)\n",
    "\n",
    "\n",
    "# wk05.head()"
   ]
  },
  {
   "cell_type": "code",
   "execution_count": 120,
   "id": "e8436095",
   "metadata": {},
   "outputs": [],
   "source": [
    "wk05_after_midterm= pd.read_csv('weekly_surveys_raw/STA130_2024_week_05_after_midterm_survey.csv')\n",
    "# wk05_after_midterm.columns"
   ]
  },
  {
   "cell_type": "code",
   "execution_count": 121,
   "id": "9ecdb555",
   "metadata": {},
   "outputs": [
    {
     "data": {
      "text/plain": [
       "Index(['4628602: Question 01\\r\\nWhich ChatBot(s) do you tend to use consistently and generally find helpful or useful for STA130?',\n",
       "       '4628604: Question 02 (Week 05)\\r\\nWhich of these topics will your feedback address? And are your responses based on using ChatGPT or the STA130 custom NBLMChatBot?\\r\\n\\r\\n\"My feedback will be about my experience using a ChatBot for the purposes of...\"\\r\\n\\r\\nWe're just looking for you to highlight particular aspects of your experience that stood out to you. The options here might not be perfect, but we're hoping they provide enough expressivity for you to give us feedback where it makes sense to you.\\r\\n✌️🤞',\n",
       "       '4628605: Question 03 (Five-Star Rating)\\r\\nRate your experience using a ChatBot in STA130 on a Five-Star scale (where 1 is negative and 5 is positive).\\r\\nDid you have a good experience regarding ChatBot support in writing, using, and troubleshooting Python code; and, learning statistical, data science, and Python programming topics and concepts?',\n",
       "       '4628686: Question 04 (Learning Support)\\r\\nRegarding learning statistical, data science, and Python programming topics and concepts (as opposed to just writing, using, and troubleshooting Python code) which of the following did you find to be helpful?',\n",
       "       '4628687: Question 05 (Focus)\\r\\nWas the scope of the responses of the ChatBot appropriately constrained and sufficiently targeted on the desired information?',\n",
       "       '4628688: Further comments or clarifications?\\r\\nFeel free togive us any other details, clarifications, or additional feedback that you feel might be relevant or worth sharing!Any comments provided here will be reviewed and helpful for our ongoing evaluations of ChatBots in the STA130 context.'],\n",
       "      dtype='object')"
      ]
     },
     "execution_count": 121,
     "metadata": {},
     "output_type": "execute_result"
    }
   ],
   "source": [
    "wk05_after_midterm.drop(columns=['section','section_id','section_sis_id', \n",
    "                          'submitted','attempt','1.0','1.0.1','1.0.2', \n",
    "                          '1.0.3','1.0.4','1.0.5','n correct', 'n incorrect','score'], inplace=True)\n",
    "wk05_after_midterm.columns"
   ]
  },
  {
   "cell_type": "code",
   "execution_count": 122,
   "id": "292109d8",
   "metadata": {},
   "outputs": [],
   "source": [
    "wk05_after_midterm.rename(columns={\n",
    "    wk05_after_midterm.columns[0]: 'which_chatbots',\n",
    "    wk05_after_midterm.columns[1]: 'feedback_target',\n",
    "    wk05_after_midterm.columns[2]: 'five_star_scale',\n",
    "    wk05_after_midterm.columns[3]: 'learning_support',\n",
    "    wk05_after_midterm.columns[4]: 'focus',\n",
    "    wk05_after_midterm.columns[5]: 'additional_feedback'\n",
    "}, inplace=True)\n",
    "\n",
    "# wk05_after_midterm.head()"
   ]
  },
  {
   "cell_type": "code",
   "execution_count": 123,
   "id": "990490bd",
   "metadata": {},
   "outputs": [],
   "source": [
    "wk07= pd.read_csv('weekly_surveys_raw/STA130_2024_week_07_survey.csv')\n",
    "# wk07.columns"
   ]
  },
  {
   "cell_type": "code",
   "execution_count": 124,
   "id": "abb2a65a",
   "metadata": {},
   "outputs": [
    {
     "data": {
      "text/plain": [
       "Index(['4644490: Question 01 (follow up)\\r\\nIf you answered \"Other\" above, which (and perhaps why, if you'd like to share)?',\n",
       "       '4390110: Question 01\\r\\nWhich ChatBot(s) are you recently finding helpful or generally useful for STA130?',\n",
       "       '4390111: Midway Question 02\\r\\nWhat are ChatBots helpful for?',\n",
       "       '4628513: Midway Question 05\\r\\nWhich of the following best characterizes your experience with the STA130 Custom NotebookLM ChatBot (STA130NBLMbot)?',\n",
       "       '4390112: Midway Question 03\\r\\nWhich of the following do you think should continue to be a part of (or be added to) STA130?',\n",
       "       '4390113: Midway Question 04\\r\\nWould you be interested in seeing your preferred ChatBots in other STA courses beyond STA130?',\n",
       "       '4628572: Midway Question 06\\r\\nNow that you've seen half of the course, completed the midterm exam, and gotten a sense for what Prof. Scott is trying to do with everything in the course... which of the following would you say apply to you?',\n",
       "       '4628721: Midway question 07\\r\\nAre you worried about the fact that future STA courses are using R instead of Python?',\n",
       "       '4390115: Further comments or clarifications?\\r\\nFeel free togive us any other details, clarifications, or additional feedback that you feel might be relevant or worth sharing!Any comments provided here will be reviewed and helpful for our ongoing evaluations of ChatBots in the STA130 context (and perhaps beyond).'],\n",
       "      dtype='object')"
      ]
     },
     "execution_count": 124,
     "metadata": {},
     "output_type": "execute_result"
    }
   ],
   "source": [
    "wk07.drop(columns=['section','section_id','section_sis_id', \n",
    "                          'submitted','attempt','1.0','1.0.1','1.0.2', \n",
    "                          '1.0.3','1.0.4','1.0.5','1.0.6','1.0.7','1.0.8','n correct', 'n incorrect','score'], inplace=True)\n",
    "wk07.columns"
   ]
  },
  {
   "cell_type": "code",
   "execution_count": 125,
   "id": "e8a04865",
   "metadata": {},
   "outputs": [],
   "source": [
    "wk07.rename(columns={\n",
    "    wk07.columns[0]: 'other_chatbots',\n",
    "    wk07.columns[1]: 'which_chatbots',\n",
    "    wk07.columns[2]: 'chatbots_good_for',\n",
    "    wk07.columns[3]: 'experience_with_notebooklm',\n",
    "    wk07.columns[4]: 'part_of_sta130_doing_good',\n",
    "    wk07.columns[5]: 'preferred_chatbots_other_sta_course',\n",
    "    wk07.columns[6]: 'feeling_about_chatbots_sta130',\n",
    "    wk07.columns[7]: 'worry_about_r_future_sta_course',\n",
    "    wk07.columns[8]: 'additional_feedback'\n",
    "}, inplace=True)\n",
    "\n",
    "\n",
    "# wk07.head()\n"
   ]
  },
  {
   "cell_type": "code",
   "execution_count": 126,
   "id": "ec1cf791",
   "metadata": {},
   "outputs": [],
   "source": [
    "wk09 = pd.read_csv('weekly_surveys_raw/STA130_2024_week_09_survey.csv')\n",
    "# wk09.columns"
   ]
  },
  {
   "cell_type": "code",
   "execution_count": 127,
   "id": "78aad00f",
   "metadata": {},
   "outputs": [],
   "source": [
    "wk09.drop(columns=['section','section_id','section_sis_id', \n",
    "                          'submitted','attempt','1.0','1.0.1','1.0.2', \n",
    "                          '1.0.3','1.0.4','1.0.5','1.0.6','n correct', 'n incorrect','score'], inplace=True)\n",
    "# wk09.columns"
   ]
  },
  {
   "cell_type": "code",
   "execution_count": 128,
   "id": "0af4df66",
   "metadata": {},
   "outputs": [],
   "source": [
    "wk09.rename(columns={\n",
    "    wk09.columns[0]: 'which_chatbots',\n",
    "    wk09.columns[1]: 'feedback_target',\n",
    "    wk09.columns[2]: 'five_star_scale',\n",
    "    wk09.columns[3]: 'learning_support',\n",
    "    wk09.columns[4]: 'focus',\n",
    "    wk09.columns[5]: 'additional_feedback',\n",
    "    wk09.columns[6]: 'feeling_about_chatbots_sta130'\n",
    "}, inplace=True)\n",
    "\n",
    "# wk09.head()"
   ]
  },
  {
   "cell_type": "code",
   "execution_count": 129,
   "id": "582ec06b",
   "metadata": {},
   "outputs": [
    {
     "data": {
      "text/plain": [
       "Index(['4510550: Question 01\\r\\nWhich ChatBot(s) do you tend to use consistently and generally find helpful or useful for STA130?',\n",
       "       '4510552: Question 02 (Week 10)\\r\\nWhich of these topics will your feedback address? And are your responses based on using ChatGPT or the STA130 custom NBLMChatBot?\\r\\n\\r\\n\"My feedback will be about my experience using a ChatBot for the purposes of...\"\\r\\n\\r\\nWe're just looking for you to highlight particular aspects of your experience that stood out to you. The options here might not be perfect, but we're hoping they provide enough expressivity for you to give us feedback where it makes sense to you.\\r\\n✌️🤞',\n",
       "       '4510553: Question 03 (Accuracy)\\r\\nDid the ChatBot provide helpful guidance and working code?',\n",
       "       '4510554: Question 04 (Troubleshooting)\\r\\nIs the ChatBot able to fix programming problemsin two or fewer prompts based on code error messages?',\n",
       "       '4510555: Question 05 (Focus)\\r\\nWas the scope of the responses of the ChatBot appropriately constrained and sufficientlytargetedon the desired information?',\n",
       "       '4659031: Midway Question 06\\r\\nNow that you've seen half of the course, completed the midterm exam, and gotten a sense for what Prof. Scott is trying to do with everything in the course... which of the following would you say apply to you?',\n",
       "       '4510556: Further comments or clarifications?\\r\\nFeel free togive us any other details, clarifications, or additional feedback that you feel might be relevant or worth sharing!Any comments provided here will be reviewed and helpful for our ongoing evaluations of ChatBots in the STA130 context.',\n",
       "       '4510551: Question 01 (follow up)\\r\\nIf you answered \"Other\" above, which (and perhaps why, if you'd like to share)?'],\n",
       "      dtype='object')"
      ]
     },
     "execution_count": 129,
     "metadata": {},
     "output_type": "execute_result"
    }
   ],
   "source": [
    "wk10 = pd.read_csv('weekly_surveys_raw/STA130_2024_week_10_survey.csv')\n",
    "\n",
    "wk10.drop(columns=['name','id', 'sis_id', 'section','section_id','section_sis_id', \n",
    "                          'submitted','attempt','1.0','1.0.1','1.0.2', \n",
    "                          '1.0.3','1.0.4','1.0.5','1.0.6','1.0.7','n correct', 'n incorrect','score'], inplace=True)\n",
    "\n",
    "wk10.columns"
   ]
  },
  {
   "cell_type": "code",
   "execution_count": 130,
   "id": "1cf9f6d4",
   "metadata": {},
   "outputs": [],
   "source": [
    "new_column_names = [\n",
    "    'which_chatbots',  # Column 0\n",
    "    'feedback_target',  # Column 1\n",
    "    'accuracy',  # Column 2\n",
    "    'troubleshooting',  # Column 3\n",
    "    'focus',  # Column 4\n",
    "    'feeling_about_chatbots_sta130',  # Column 5\n",
    "    'additional_feedback',  # Column 6\n",
    "    'other_chatbots'  # Column 7\n",
    "]\n",
    "\n",
    "# Rename the columns using index positions\n",
    "wk10.columns = new_column_names"
   ]
  },
  {
   "cell_type": "code",
   "execution_count": 131,
   "id": "ebb4f393",
   "metadata": {},
   "outputs": [
    {
     "data": {
      "text/plain": [
       "Index(['4484890: Question 01\\r\\nWhich ChatBot(s) do you tend to use consistently and generally find helpful or useful for STA130?',\n",
       "       '4484891: Question 02 (Week 11)\\r\\nWhich of these topics will your feedback address? And are your responses based on using ChatGPT or the STA130 custom NBLMChatBot?\\r\\n\\r\\n\"My feedback will be about my experience using a ChatBot for the purposes of...\"\\r\\n\\r\\nWe're just looking for you to highlight particular aspects of your experience that stood out to you. The options here might not be perfect, but we're hoping they provide enough expressivity for you to give us feedback where it makes sense to you.\\r\\n✌️🤞',\n",
       "       '4484894: Question 03 (Five-Star Rating)\\r\\nRate your experience using a ChatBot in STA130 on a Five-Star scale (where 1 is negative and 5 is positive).\\r\\nDid you have a good experience regarding ChatBot support in writing, using, and troubleshooting Python code; or, learning statistical, data science, and Python programming topics and concepts?',\n",
       "       '4484892: Question 04 (Learning Support)\\r\\nRegarding learning statistical, data science, and Python programming topics and concepts (as opposed to just writing, using, and troubleshooting Python code) which of the following did you find to be helpful?',\n",
       "       '4484893: Question 05 (Focus)\\r\\nWas the scope of the responses of the ChatBot appropriately constrained and sufficiently targeted on the desired information?',\n",
       "       '4669029: Midway Question 06\\r\\nNow that you've seen half of the course, completed the midterm exam, and gotten a sense for what Prof. Scott is trying to do with everything in the course... which of the following would you say apply to you?',\n",
       "       '4484889: Further comments or clarifications?\\r\\nFeel free togive us any other details, clarifications, or additional feedback that you feel might be relevant or worth sharing!Any comments provided here will be reviewed and helpful for our ongoing evaluations of ChatBots in the STA130 context.',\n",
       "       '4510563: Question 01 (follow up)\\r\\nIf you answered \"Other\" above, which (and perhaps why, if you'd like to share)?'],\n",
       "      dtype='object')"
      ]
     },
     "execution_count": 131,
     "metadata": {},
     "output_type": "execute_result"
    }
   ],
   "source": [
    "wk11 = pd.read_csv('weekly_surveys_raw/STA130_2024_week_11_survey.csv')\n",
    "\n",
    "wk11.drop(columns=['section','section_id','section_sis_id', \n",
    "                          'submitted','attempt','1.0','1.0.1','1.0.2', \n",
    "                          '1.0.3','1.0.4','1.0.5','1.0.6','1.0.7','n correct', 'n incorrect','score'], inplace=True)\n",
    "\n",
    "wk11.columns"
   ]
  },
  {
   "cell_type": "code",
   "execution_count": 132,
   "id": "06b84544",
   "metadata": {},
   "outputs": [],
   "source": [
    "new_column_names = [\n",
    "    'which_chatbots',  # Column 0\n",
    "    'feedback_target',  # Column 1\n",
    "    'five_star_scale',  # Column 2\n",
    "    'learning_support',  # Column 3\n",
    "    'focus',  # Column 4\n",
    "    'feeling_about_chatbots_sta130',  # Column 5\n",
    "    'additional_feedback',  # Column 6\n",
    "    'other_chatbots'  # Column 7\n",
    "]\n",
    "\n",
    "# Rename the columns using index positions\n",
    "wk11.columns = new_column_names"
   ]
  },
  {
   "cell_type": "code",
   "execution_count": 133,
   "id": "5c426790",
   "metadata": {},
   "outputs": [
    {
     "data": {
      "text/plain": [
       "Index(['4484884: Question 01\\r\\nWhich ChatBot(s) do you tend to use consistently and generally find helpful or useful for STA130?',\n",
       "       '4484885: Question 02 (Project Week 12)\\r\\nWhich of these topics will your feedback address? And are your responses based on using ChatGPT or the STA130 custom NBLMChatBot?\\r\\n\\r\\n\"My feedback will be about my experience using a ChatBot for the purposes of...\"\\r\\n\\r\\nWe're just looking for you to highlight particular aspects of your experience that stood out to you. The options here might not be perfect, but we're hoping they provide enough expressivity for you to give us feedback where it makes sense to you.\\r\\n✌️🤞',\n",
       "       '4484887: Question 03 (Accuracy)\\r\\nDid the ChatBot provide helpful guidance and working code?',\n",
       "       '4484888: Question 04 (Troubleshooting)\\r\\nIs the ChatBot able to fix programming problemsin two or fewer prompts based on code error messages?',\n",
       "       '4484886: Question 05 (Focus)\\r\\nWas the scope of the responses of the ChatBot appropriately constrained and sufficientlytargetedon the desired information?',\n",
       "       '4484883: Feel free togive us any other details, clarifications, or additional feedback that you feel might be relevant or worth sharing!Any comments provided here will be reviewed and helpful for our ongoing evaluations of ChatBots in the STA130 context.\\r\\n'],\n",
       "      dtype='object')"
      ]
     },
     "execution_count": 133,
     "metadata": {},
     "output_type": "execute_result"
    }
   ],
   "source": [
    "wk12 = pd.read_csv('weekly_surveys_raw/STA130_2024_week_12_survey.csv')\n",
    "\n",
    "wk12.drop(columns=['section','section_id','section_sis_id', \n",
    "                          'submitted','attempt','1.0','1.0.1','1.0.2', \n",
    "                          '1.0.3','1.0.4','1.0.5','n correct', 'n incorrect','score'], inplace=True)\n",
    "\n",
    "wk12.columns"
   ]
  },
  {
   "cell_type": "code",
   "execution_count": 134,
   "id": "e87c9ef1",
   "metadata": {},
   "outputs": [],
   "source": [
    "new_column_names = [\n",
    "    'which_chatbots',  # Column 0\n",
    "    'feedback_target',  # Column 1\n",
    "    'accuracy',  # Column 2\n",
    "    'troubleshooting',  # Column 3\n",
    "    'focus',  # Column 4\n",
    "    'additional_feedback',  # Column 5\n",
    "]\n",
    "\n",
    "# Rename the columns using index positions\n",
    "wk12.columns = new_column_names"
   ]
  },
  {
   "cell_type": "markdown",
   "id": "3e8e550d",
   "metadata": {},
   "source": [
    "## F24 Weekly Surveys"
   ]
  },
  {
   "cell_type": "code",
   "execution_count": 135,
   "id": "561014d5",
   "metadata": {},
   "outputs": [],
   "source": [
    "dataframes = [\n",
    "    ('orientation', orientation),\n",
    "    ('wk02', wk02),\n",
    "    ('wk03', wk03),\n",
    "    ('wk04', wk04),\n",
    "    ('wk05', wk05),\n",
    "    ('wk05_after_midterm', wk05_after_midterm),\n",
    "    ('wk07', wk07),\n",
    "    ('wk09', wk09),\n",
    "    ('wk10', wk10),\n",
    "    ('wk11', wk11),\n",
    "    ('wk12', wk12)\n",
    "]\n",
    "\n",
    "# Add a column to each dataframe indicating its source\n",
    "for name, df in dataframes:\n",
    "    df['source'] = name\n",
    "\n",
    "# Concatenate all dataframes\n",
    "F24_weekly_surveys = pd.concat([df for _, df in dataframes], ignore_index=True)\n",
    "\n",
    "# Save the concatenated dataframe to a CSV file\n",
    "F24_weekly_surveys.to_csv('weekly_surveys_cleaned/F24_weekly_surveys.csv', index=False)"
   ]
  },
  {
   "cell_type": "code",
   "execution_count": 136,
   "id": "0519136d",
   "metadata": {},
   "outputs": [
    {
     "data": {
      "text/plain": [
       "{'accuracy': array(['wk02', 'wk04', 'wk10', 'wk12'], dtype=object),\n",
       " 'additional_feedback': array(['wk02', 'wk03', 'wk04', 'wk05', 'wk05_after_midterm', 'wk07',\n",
       "        'wk09', 'wk10', 'wk11', 'wk12'], dtype=object),\n",
       " 'agree_chatbot_help_sta130': array(['orientation'], dtype=object),\n",
       " 'agree_chatbot_help_you': array(['orientation'], dtype=object),\n",
       " 'chatbot_for_coding': array(['orientation'], dtype=object),\n",
       " 'chatbots_good_for': array(['wk07'], dtype=object),\n",
       " 'concerns': array(['orientation'], dtype=object),\n",
       " 'experience_with_notebooklm': array(['wk07'], dtype=object),\n",
       " 'feedback_target': array(['wk02', 'wk03', 'wk04', 'wk05', 'wk05_after_midterm', 'wk09',\n",
       "        'wk10', 'wk11', 'wk12'], dtype=object),\n",
       " 'feeling_about_chatbots_sta130': array(['wk07', 'wk09', 'wk10', 'wk11'], dtype=object),\n",
       " 'five_star_scale': array(['wk03', 'wk05', 'wk05_after_midterm', 'wk09', 'wk11'], dtype=object),\n",
       " 'focus': array(['wk02', 'wk03', 'wk04', 'wk05', 'wk05_after_midterm', 'wk09',\n",
       "        'wk10', 'wk11', 'wk12'], dtype=object),\n",
       " 'learning_support': array(['wk03', 'wk05', 'wk05_after_midterm', 'wk09', 'wk11'], dtype=object),\n",
       " 'other_chatbots': array(['orientation', 'wk02', 'wk03', 'wk04', 'wk07'], dtype=object),\n",
       " 'part_of_sta130_doing_good': array(['wk07'], dtype=object),\n",
       " 'preferred_chatbots_other_sta_course': array(['wk07'], dtype=object),\n",
       " 'rely_on_chatbot': array(['orientation'], dtype=object),\n",
       " 'troubleshooting': array(['wk02', 'wk04', 'wk10', 'wk12'], dtype=object),\n",
       " 'which_chatbots': array(['orientation', 'wk02', 'wk03', 'wk04', 'wk05',\n",
       "        'wk05_after_midterm', 'wk07', 'wk09', 'wk10', 'wk11', 'wk12'],\n",
       "       dtype=object),\n",
       " 'worry_about_r_future_sta_course': array(['wk07'], dtype=object)}"
      ]
     },
     "execution_count": 136,
     "metadata": {},
     "output_type": "execute_result"
    }
   ],
   "source": [
    "unique_sources = {}\n",
    "for column in F24_weekly_surveys.columns:\n",
    "    if column != 'source':\n",
    "        unique_sources[column] = F24_weekly_surveys.loc[F24_weekly_surveys[column].notna(), 'source'].unique()\n",
    "\n",
    "unique_sources = dict(sorted(unique_sources.items()))\n",
    "unique_sources"
   ]
  },
  {
   "cell_type": "code",
   "execution_count": 93,
   "id": "244914cd",
   "metadata": {},
   "outputs": [
    {
     "data": {
      "text/plain": [
       "21"
      ]
     },
     "execution_count": 93,
     "metadata": {},
     "output_type": "execute_result"
    }
   ],
   "source": [
    "len(unique_sources)"
   ]
  },
  {
   "cell_type": "markdown",
   "id": "3a11f83b",
   "metadata": {},
   "source": [
    "## what we have now"
   ]
  },
  {
   "cell_type": "code",
   "execution_count": 42,
   "id": "7ea0d8ca",
   "metadata": {},
   "outputs": [],
   "source": [
    "# df_2023_short_col_name ----> pre and post 2023\n",
    "# orientation_2024 ----------> wk01 2024\n",
    "# wk02_2024 -----------------> wk02 2024\n",
    "# wk03_2024 -----------------> wk03 2024\n",
    "# wk04_2024 -----------------> wk04 2024\n",
    "# wk05_2024 -----------------> wk05 2024 \n",
    "# wk05_after_midterm_2024 ---> wk05 after midterm 2024\n",
    "# midway_2024 ---------------> wk07 2024\n",
    "# wk09 2024 -----------------> wk09 2024 \n",
    "# wk10 2024 -----------------> wk10 2024 \n",
    "# need to be cleaned \n",
    "# \n",
    "# pre 2024  should we wait for post and match the student name?? or should we process this now ?\n",
    "\n",
    "\n"
   ]
  },
  {
   "cell_type": "code",
   "execution_count": 43,
   "id": "2f92d666",
   "metadata": {},
   "outputs": [],
   "source": [
    "# first, we say our thinking:\n",
    "# 1. python is used in other course;\n",
    "# 2. stats close to cs but not cs;\n",
    "# 3. chat also help professional writing too!\n",
    "\n",
    "# see down below "
   ]
  },
  {
   "cell_type": "code",
   "execution_count": null,
   "id": "d2bc2e09",
   "metadata": {},
   "outputs": [],
   "source": [
    "df_2023_short_col_name['Programming_course'].value_counts()\n",
    "# python used in 108 and 148, it's good if we can indtroduce stats in same language. \n",
    "# + python is useful!!! "
   ]
  },
  {
   "cell_type": "code",
   "execution_count": null,
   "id": "bd2205bf",
   "metadata": {},
   "outputs": [],
   "source": [
    "df_2023_short_col_name['Statistics_program'].value_counts()\n",
    "\n",
    "# most student is stats major or specialist, not DS or CS. \n",
    "# we want student at least can start use code (with AI help)\n",
    "# even if we want student can really code individuly, \n",
    "# coding with AI help still give student a good/easy start,\n",
    "# well, good start is good :)"
   ]
  },
  {
   "cell_type": "code",
   "execution_count": null,
   "id": "0d446ab2",
   "metadata": {},
   "outputs": [],
   "source": [
    "df_2023_short_col_name['Pre_professional_writing_ability'].value_counts()\n",
    "# We can argue chatbot help with professional writing\n",
    "# like the coding argument above, we can argue even if we want student can write on their own, AI help gives\n",
    "# good examples"
   ]
  },
  {
   "cell_type": "code",
   "execution_count": 47,
   "id": "5b2ad173",
   "metadata": {},
   "outputs": [],
   "source": [
    "# second, survey tell us student agree with us!\n",
    "# agree with us at the beging but struggle after with python:(\n",
    "# but the struggle parts, will be fixed with chatbot!"
   ]
  },
  {
   "cell_type": "code",
   "execution_count": null,
   "id": "bfc099a6",
   "metadata": {
    "scrolled": true
   },
   "outputs": [],
   "source": [
    "df_2023_short_col_name['Pre_feeling_for_using_python_in_STA130'].apply(lambda x:\n",
    "     \"I am pleased we're using Python since it's a highly relevant programming language with general usage across many domains\" in x).sum()\n",
    "# student recognize the value of python "
   ]
  },
  {
   "cell_type": "code",
   "execution_count": null,
   "id": "08dc9703",
   "metadata": {},
   "outputs": [],
   "source": [
    "df_2023_short_col_name['Pre_feeling_for_using_python_in_STA130'].apply(lambda x:\n",
    "     \"I am glad\" in x).sum()\n",
    "# student feel good about using same language across many courses"
   ]
  },
  {
   "cell_type": "code",
   "execution_count": null,
   "id": "f9faa205",
   "metadata": {},
   "outputs": [],
   "source": [
    "df_2023_short_col_name['Post_python_level'].value_counts() \n",
    "# still feel struggle with python after fall semaster (after STA130, CSC108 or other cs course. no good. )"
   ]
  },
  {
   "cell_type": "code",
   "execution_count": null,
   "id": "59a13450",
   "metadata": {},
   "outputs": [],
   "source": [
    "df_2023_short_col_name['Pre_python_skill_level'].value_counts()"
   ]
  },
  {
   "cell_type": "code",
   "execution_count": null,
   "id": "f276ad74",
   "metadata": {},
   "outputs": [],
   "source": [
    "df_2023_short_col_name['Pre_feeling_for_learning_to_code_in_general'].value_counts()\n",
    "# most student wants to have some good help available \n"
   ]
  },
  {
   "cell_type": "code",
   "execution_count": 53,
   "id": "96fcda82",
   "metadata": {},
   "outputs": [],
   "source": [
    "# need more analysis for pre vs post 2023"
   ]
  },
  {
   "cell_type": "code",
   "execution_count": null,
   "id": "f300806b",
   "metadata": {},
   "outputs": [],
   "source": []
  },
  {
   "cell_type": "code",
   "execution_count": null,
   "id": "b0e94cc8",
   "metadata": {},
   "outputs": [],
   "source": []
  },
  {
   "cell_type": "code",
   "execution_count": null,
   "id": "495ec332",
   "metadata": {},
   "outputs": [],
   "source": []
  },
  {
   "cell_type": "code",
   "execution_count": null,
   "id": "9d0b6d85",
   "metadata": {},
   "outputs": [],
   "source": []
  },
  {
   "cell_type": "code",
   "execution_count": null,
   "id": "439bb99f",
   "metadata": {},
   "outputs": [],
   "source": []
  },
  {
   "cell_type": "code",
   "execution_count": null,
   "id": "ff8e58a4",
   "metadata": {},
   "outputs": [],
   "source": []
  },
  {
   "cell_type": "code",
   "execution_count": null,
   "id": "d5b817ce",
   "metadata": {},
   "outputs": [],
   "source": [
    "orientation_2024.Which_ChatBots.value_counts()\n",
    "# only 48 student don't use ChatBot regularly, even before STA130. \n",
    "# So instead of ban ChatBot, why not teach student use it correctly?"
   ]
  },
  {
   "cell_type": "code",
   "execution_count": null,
   "id": "d092cc0a",
   "metadata": {},
   "outputs": [],
   "source": [
    "orientation_2024['Agree_Chatbot_will_help_STA130?'].value_counts()\n",
    "# again, students agree with us!"
   ]
  },
  {
   "cell_type": "code",
   "execution_count": null,
   "id": "9b6f3785",
   "metadata": {},
   "outputs": [],
   "source": [
    "wk02_2024['ChatBot_helped_with_coding'].value_counts()\n",
    "# good!"
   ]
  },
  {
   "cell_type": "code",
   "execution_count": null,
   "id": "54180c18",
   "metadata": {},
   "outputs": [],
   "source": [
    "wk02_2024['ChatBot_self_correction'].value_counts()\n",
    "# good!"
   ]
  },
  {
   "cell_type": "code",
   "execution_count": null,
   "id": "bc88a042",
   "metadata": {},
   "outputs": [],
   "source": [
    "wk02_2024['focus'].value_counts()\n",
    "# not bad, there is certainly place for improvment!\n",
    "# but good considering, little efforts in customize ChatBot and also early stage"
   ]
  },
  {
   "cell_type": "code",
   "execution_count": null,
   "id": "e6b8abe2",
   "metadata": {},
   "outputs": [],
   "source": [
    "# need to do:\n",
    "# - week 03\n",
    "# - week 04 \n",
    "# - week 05\n",
    "# - wk05 after midterm 2024\n",
    "# - wk07 2024\n",
    "# - wk09 2024 "
   ]
  },
  {
   "cell_type": "code",
   "execution_count": null,
   "id": "e98a5826",
   "metadata": {},
   "outputs": [],
   "source": []
  },
  {
   "cell_type": "code",
   "execution_count": null,
   "id": "08ed4811",
   "metadata": {},
   "outputs": [],
   "source": []
  }
 ],
 "metadata": {
  "kernelspec": {
   "display_name": "base",
   "language": "python",
   "name": "python3"
  },
  "language_info": {
   "codemirror_mode": {
    "name": "ipython",
    "version": 3
   },
   "file_extension": ".py",
   "mimetype": "text/x-python",
   "name": "python",
   "nbconvert_exporter": "python",
   "pygments_lexer": "ipython3",
   "version": "3.9.16"
  }
 },
 "nbformat": 4,
 "nbformat_minor": 5
}
