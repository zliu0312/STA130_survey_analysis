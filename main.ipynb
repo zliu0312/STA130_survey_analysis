{
 "cells": [
  {
   "cell_type": "code",
   "execution_count": 1,
   "id": "aef1b3a8",
   "metadata": {
    "scrolled": true
   },
   "outputs": [],
   "source": [
    "import pandas as pd\n",
    "import numpy as np\n",
    "import pandas as pd\n",
    "\n",
    "file_path = \"F23_pre_post_cleaned/F23_pre_post_cleaned.csv\"\n",
    "df = pd.read_csv(file_path, encoding='ISO-8859-1')  # or 'Windows-1252'\n"
   ]
  },
  {
   "cell_type": "code",
   "execution_count": 2,
   "id": "a2c3167e",
   "metadata": {
    "scrolled": true
   },
   "outputs": [],
   "source": [
    "df.drop(columns=['ID',\\\n",
    "                 'pre_After reading the participant information on Quercus, please select one of the following:'], inplace=True)\n"
   ]
  },
  {
   "cell_type": "code",
   "execution_count": 3,
   "id": "519da63e",
   "metadata": {},
   "outputs": [],
   "source": [
    "# df.columns.tolist()"
   ]
  },
  {
   "cell_type": "code",
   "execution_count": 4,
   "id": "f889af22",
   "metadata": {},
   "outputs": [],
   "source": [
    "df.rename(columns={\n",
    "    'pre_Are you a first-year student?': 'first_year',\n",
    "    'pre_Are you an international student?': 'international',\n",
    "    'pre_Is English your first language?': 'english_first_language',\n",
    "    'pre_Please tick all that apply. You are:': 'races',\n",
    "    'pre_What first-year calculus course have you taken or are you currently taking?': 'calculus_course',\n",
    "    'pre_Have you taken or are you taking a first-year programming course?': 'programming_course',\n",
    "    'pre_In what statistics program of study have you enrolled or would you like to enrol in (select your first choice)?': 'statistics_program',\n",
    "    'pre_How would you describe your professional writing ability?': 'pre_professional_writing_ability',\n",
    "    'pre_What is your experience with programming?': 'pre_programming_experience',\n",
    "    'pre_What is your experience with the Python programming language?': 'pre_python_experience',\n",
    "    'pre_How do you evaluate your skill level at Python programming?': 'pre_python_skill_level',\n",
    "    'pre_How effectively do you feel you can perform statistical data analysis with Python?': 'pre_stats_efficiency_in_python',\n",
    "    'pre_Which of the following statements best describe your feelings about the use of Python for STA130? Select all that apply.': 'pre_feeling_for_python_sta130',\n",
    "    'pre_Which of the following statements best describe your feelings about learning to code in Python in STA130? Select all that apply.': 'pre_feeling_learning_python_sta130',\n",
    "    'pre_Which of the following statements best describes your feelings about learning to code in general?': 'pre_feeling_learning_to_code_general',\n",
    "    'pre_participation_indicator': 'participation_indicator',\n",
    "    'post_Approximately how many total hours per week on average did you spend on STA130 this semester?': 'hours_per_week_sta130',\n",
    "    'post_Approximately how many total hours per week on average did you spend completing STA130 assignments (not counting general studying or attending or reviewing class meetings)?': 'hours_per_week_assignments',\n",
    "    'post_Which of the following did you routinely utilize and find helpful in supporting your ability to learn Python as part of STA130? (You may select more than one)': 'helpful_tool_python_sta130',\n",
    "    'post_Which of the following did you find to be the MOST helpful and supportive in terms of performing well in STA130 overall? (You may select more than one)': 'helpful_tool_sta130_general',\n",
    "    'post_Which aspects of STA130 do you think were the LEAST helpful and supportive for student success in the class? (You may select more than one)': 'least_helpful_tool',\n",
    "    'post_How do you evaluate your skill level at Python programming?': 'post_python_skill_level',\n",
    "    'post_How successful were you in learning Python this semester?': 'post_success_learning_python',\n",
    "    'post_How much has your skill at Python programming increased since the beginning of the semester?': 'post_increase_python_skill',\n",
    "    'post_Which of the following statements best describes your feelings about learning to code in general?': 'post_feelings_learning_code_general',\n",
    "    'post_Which of the following statements best describes your assessment of the amount of resources available in STA130 to support your ability to learn to code in Python?': 'assessment_coding_resources_sta130',\n",
    "    'post_Has STA130 jump-started and fostered your ability to learn python?': 'sta130_jump_started_python',\n",
    "    'post_Is it helpful to have previous experience with computer programming or simultaneously take a computer programming course to do well in STA130?': 'programming_experience_required',\n",
    "    'post_Did you enjoy learning statistical and data science concepts based on first introducing them through Python?': 'enjoyed_stats_python',\n",
    "    'post_Through your experience with the course project and other course (or non-course) activities, how effectively do you feel you can perform statistical data analysis with Python?': 'effective_stats_analysis_python',\n",
    "    'post_How much do you feel your skill at performing statistical data analysis with Python has improved since the beginning of the semester?': 'improvement_stats_skill_python',\n",
    "    'post_How strong is your sense of community and belonging here at UofT?': 'community_belonging_uoft',\n",
    "    'post_How strong is your sense of community and belonging in STA130?': 'community_belonging_sta130',\n",
    "    'post_How helpful has STA130 been in helping you develop a sense of community and belonging at UofT?': 'sta130_helped_community_belonging',\n",
    "    'post_What aspects of the STA130 course contributed to and supported developing a sense of community and belonging here at UofT? (You may select more than one)': 'sta130_community_support_aspects',\n",
    "    'post_How would you describe your professional writing ability?': 'post_professional_writing_ability',\n",
    "    'post_How helpful were the weekly writing assignments (in the Weekly Homeworks and Tutorial Activities and Assignments) for the development of your professional writing ability?': 'writing_assignments_helped_professional_writing',\n",
    "    'post_How helpful was the course project and related activities and assignments in giving you an opportunity to apply your communication skills?': 'project_helped_communication_skills',\n",
    "    'post_What aspects of the course contributed MOST to the development of your professional writing ability? (You may select more than one)': 'course_aspects_helped_professional_writing',\n",
    "    'post_Describe the purpose of statistical inference (for example, testing and confidence intervals)': 'describe_statistical_inference_purpose',\n",
    "    'post_Applying statistical methods for description, prediction and inference': 'apply_statistical_methods',\n",
    "    'post_Visualizing data': 'visualizing_data',\n",
    "    'post_Use simulation to solve a variety of problems with data': 'use_simulation',\n",
    "    'post_Manipulating and \"wrangling\" data': 'manipulating_wrangling_data',\n",
    "    'post_Using Python for data analysis': 'using_python_data_analysis',\n",
    "    'post_Communicating in writing to both statisticians and non-statisticians': 'communicating_in_writing',\n",
    "    'post_Communicating orally to both statisticians and non-statisticians': 'communicating_orally',\n",
    "    'post_Translating practical problems into statistical terms and vice versa': 'translate_problems_statistical_terms',\n",
    "    'post_Describing how ethical practice is important in statistical work': 'ethical_practice_importance',\n",
    "    'post_Using statistical knowledge to solve problems in other disciplines': 'using_stats_other_disciplines',\n",
    "    'post_Understanding statistical analysis as a problem-solving process (i.e. from study design through data exploration and analysis through communication of results)': 'stats_problem_solving_process',\n",
    "    'post_Evaluating strengths and limitations of solutions to statistical problems': 'evaluating_stats_solutions',\n",
    "    'post_What was the most interesting part of this course?': 'most_interesting_part',\n",
    "    'post_What would you add or what would you change about the course?': 'suggested_course_changes'\n",
    "}, inplace=True)\n"
   ]
  },
  {
   "cell_type": "code",
   "execution_count": 5,
   "id": "a25dea17",
   "metadata": {},
   "outputs": [],
   "source": [
    "df_2023_short_col_name = df\n",
    "\n",
    "# df_2023_short_col_name.head()\n",
    "# now 2023 data is ready "
   ]
  },
  {
   "cell_type": "code",
   "execution_count": 6,
   "id": "ace4bc1c",
   "metadata": {},
   "outputs": [],
   "source": [
    "orientation = pd.read_csv('weekly_surveys_raw/STA130_2024_orientation_survey.csv')\n",
    "wk02 = pd.read_csv('weekly_surveys_raw/STA130_2024_week_02_survey.csv')\n",
    "# orientation.head()"
   ]
  },
  {
   "cell_type": "code",
   "execution_count": 7,
   "id": "1fb5fda7",
   "metadata": {},
   "outputs": [],
   "source": [
    "# orientation.columns\n"
   ]
  },
  {
   "cell_type": "code",
   "execution_count": 8,
   "id": "1160c9f4",
   "metadata": {},
   "outputs": [],
   "source": [
    "# wk02.columns\n"
   ]
  },
  {
   "cell_type": "code",
   "execution_count": 9,
   "id": "b8b8c259",
   "metadata": {},
   "outputs": [],
   "source": [
    "orientation.drop(columns=['section','section_id','section_sis_id', \n",
    "                          'submitted','attempt','1.0','1.0.1','1.0.2', \n",
    "                          '1.0.3','1.0.4','1.0.5','0.0','n correct', 'n incorrect','score'], inplace=True)\n",
    "wk02.drop(columns=['section','section_id','section_sis_id', \n",
    "                          'submitted','attempt','1.0','1.0.1','1.0.2', \n",
    "                          '1.0.3','1.0.4','1.0.5','1.0.6','n correct', 'n incorrect','score'], inplace=True)\n"
   ]
  },
  {
   "cell_type": "code",
   "execution_count": 10,
   "id": "3eedb211",
   "metadata": {},
   "outputs": [
    {
     "data": {
      "text/plain": [
       "Index(['4389717: Orientation Question 01\\r\\nWhich AI ChatBots do you use regularly?',\n",
       "       '4489823: Orientation Question 01 (follow up)\\r\\nIf you answered \"Other\" above, which (and perhaps why, if you'd like to share)?',\n",
       "       '4489822: Orientation Question 02\\r\\nHow much do you rely on AI ChatBots?',\n",
       "       '4389718: Orientation Question 03\\r\\nHave you ever used ChatBot to help with coding?',\n",
       "       '4421347: Orientation Question 04\\r\\nDo you think a ChatBot could help support someone doing the kind of statistical and data science analyses taught in STA130?',\n",
       "       '4389719: Orientation Question 05\\r\\nDo you think a ChatBot could contribute significantly to your learning process and experience in STA130?',\n",
       "       '4389725: Orientation Question 06\\r\\nWhat is your main concern about taking STA130?'],\n",
       "      dtype='object')"
      ]
     },
     "execution_count": 10,
     "metadata": {},
     "output_type": "execute_result"
    }
   ],
   "source": [
    "orientation.columns"
   ]
  },
  {
   "cell_type": "code",
   "execution_count": 11,
   "id": "80e1f4b3",
   "metadata": {},
   "outputs": [],
   "source": [
    "orientation.rename(columns={\n",
    "    orientation.columns[0]: 'which_chatbots',\n",
    "    orientation.columns[1]: 'other_chatbots',\n",
    "    orientation.columns[2]: 'rely_on_chatbot',\n",
    "    orientation.columns[3]: 'chatbot_for_coding',\n",
    "    orientation.columns[4]: 'agree_chatbot_help_sta130',\n",
    "    orientation.columns[5]: 'agree_chatbot_help_you',\n",
    "    orientation.columns[6]: 'concerns'\n",
    "}, inplace=True)\n",
    "\n",
    "\n",
    "# orientation.head()"
   ]
  },
  {
   "cell_type": "code",
   "execution_count": 12,
   "id": "037cf73c",
   "metadata": {},
   "outputs": [
    {
     "data": {
      "text/plain": [
       "Index(['4389967: Question 01\\r\\nWhich ChatBot(s) do you tend to use consistently and generally find helpful or useful for STA130?',\n",
       "       '4489824: Question 01 (follow up)\\r\\nIf you answered \"Other\" above, which do you use (and perhaps why, if you'd like to share)?',\n",
       "       '4421351: Question 02 (Week 02)\\r\\nWhich of these topics will your feedback address? And are your responses based on using ChatGPT or the STA130 custom NBLMChatBot?\\r\\n\\r\\n\"My feedback will be about my experience using a ChatBot for the purposes of...\"\\r\\n\\r\\nWe're just looking for you to highlight particular aspects of your experience that stood out to you. The options here might not be perfect, but we're hoping they provide enough expressivity for you to give us feedback where it makes sense to you.\\r\\n✌️🤞',\n",
       "       '4389974: Question 03 (Accuracy)\\r\\nDid the ChatBot provide helpful guidance and working code?',\n",
       "       '4389979: Question 04 (Troubleshooting)\\r\\nIs the ChatBot able to fix programming problemsin two or fewer prompts based on code error messages?',\n",
       "       '4389982: Question 05 (Focus)\\r\\nWas the scope of the responses of the ChatBot appropriately constrained and sufficientlytargetedon the desired information?',\n",
       "       '4421439: Further comments or clarifications?\\r\\nFeel free togive us any other details, clarifications, or additional feedback that you feel might be relevant or worth sharing!Any comments provided here will be reviewed and helpful for our ongoing evaluations of ChatBots in the STA130 context.\\r\\n'],\n",
       "      dtype='object')"
      ]
     },
     "execution_count": 12,
     "metadata": {},
     "output_type": "execute_result"
    }
   ],
   "source": [
    "wk02.columns"
   ]
  },
  {
   "cell_type": "code",
   "execution_count": 13,
   "id": "ac1a81d3",
   "metadata": {},
   "outputs": [],
   "source": [
    "wk02.rename(columns={\n",
    "    wk02.columns[0]: 'which_chatbots',\n",
    "    wk02.columns[1]: 'other_chatbots',\n",
    "    wk02.columns[2]: 'feedback_target',\n",
    "    wk02.columns[3]: 'accuracy',\n",
    "    wk02.columns[4]: 'troubleshooting',\n",
    "    wk02.columns[5]: 'focus',\n",
    "    wk02.columns[6]: 'additional_feedback'\n",
    "}, inplace=True)\n",
    "\n",
    "# wk02.head()"
   ]
  },
  {
   "cell_type": "code",
   "execution_count": 14,
   "id": "4344603f",
   "metadata": {},
   "outputs": [],
   "source": [
    "wk03 = pd.read_csv('weekly_surveys_raw/STA130_2024_week_03_survey.csv')\n",
    "# wk03.columns"
   ]
  },
  {
   "cell_type": "code",
   "execution_count": 15,
   "id": "49f794b6",
   "metadata": {},
   "outputs": [],
   "source": [
    "wk03.drop(columns=['section','section_id','section_sis_id', \n",
    "                          'submitted','attempt','1.0','1.0.1','1.0.2', \n",
    "                          '1.0.3','1.0.4','1.0.5','1.0.6','n correct', 'n incorrect','score'], inplace=True)\n",
    "# wk03.columns"
   ]
  },
  {
   "cell_type": "code",
   "execution_count": 16,
   "id": "9942f3d7",
   "metadata": {},
   "outputs": [],
   "source": [
    "wk03.rename(columns={\n",
    "    wk03.columns[0]: 'which_chatbots',\n",
    "    wk03.columns[1]: 'other_chatbots',\n",
    "    wk03.columns[2]: 'feedback_target',\n",
    "    wk03.columns[3]: 'five_star_scale',\n",
    "    wk03.columns[4]: 'learning_support',\n",
    "    wk03.columns[5]: 'focus',\n",
    "    wk03.columns[6]: 'additional_feedback'\n",
    "}, inplace=True)\n",
    "\n",
    "# wk03.head()"
   ]
  },
  {
   "cell_type": "code",
   "execution_count": 17,
   "id": "e7617109",
   "metadata": {},
   "outputs": [
    {
     "data": {
      "text/plain": [
       "Index(['section', 'section_id', 'section_sis_id', 'submitted', 'attempt',\n",
       "       '4390022: Question 01\\r\\nWhich ChatBot(s) do you tend to use consistently and generally find helpful or useful for STA130?',\n",
       "       '1.0',\n",
       "       '4489827: Question 01 (follow up)\\r\\nIf you answered \"Other\" above, which (and perhaps why, if you'd like to share)?',\n",
       "       '1.0.1',\n",
       "       '4390090: Question 02 (Week 04)\\r\\nWhich of these topics will your feedback address? And are your responses based on using ChatGPT or the STA130 custom NBLMChatBot?\\r\\n\\r\\n    \"My feedback will be about my experience using a ChatBot for the purposes of...\"\\r\\n\\r\\nWe're just looking for you to highlight particular aspects of your experience that stood out to you. The options here might not be perfect, but we're hoping they provide enough expressivity for you to give us feedback where it makes sense to you.\\r\\n✌️🤞',\n",
       "       '1.0.2',\n",
       "       '4390026: Question 03 (Accuracy)\\r\\nDid the ChatBot provide helpful guidance and working code?',\n",
       "       '1.0.3',\n",
       "       '4390082: Question 04 (Troubleshooting)\\r\\nIs the ChatBot able to fix programming problemsin two or fewer prompts based on code error messages?',\n",
       "       '1.0.4',\n",
       "       '4390087: Question 05 (Focus)\\r\\nWas the scope of the responses of the ChatBot appropriately constrained and sufficientlytargetedon the desired information?',\n",
       "       '1.0.5',\n",
       "       '4390094: Further comments or clarifications?\\r\\nFeel free togive us any other details, clarifications, or additional feedback that you feel might be relevant or worth sharing!Any comments provided here will be reviewed and helpful for our ongoing evaluations of ChatBots in the STA130 context.\\r\\n',\n",
       "       '1.0.6', 'n correct', 'n incorrect', 'score'],\n",
       "      dtype='object')"
      ]
     },
     "execution_count": 17,
     "metadata": {},
     "output_type": "execute_result"
    }
   ],
   "source": [
    "wk04 = pd.read_csv('weekly_surveys_raw/STA130_2024_week_04_survey.csv')\n",
    "wk04.columns"
   ]
  },
  {
   "cell_type": "code",
   "execution_count": 18,
   "id": "4338bd5a",
   "metadata": {},
   "outputs": [],
   "source": [
    "wk04.drop(columns=['section','section_id','section_sis_id', \n",
    "                          'submitted','attempt','1.0','1.0.1','1.0.2', \n",
    "                          '1.0.3','1.0.4','1.0.5','1.0.6','n correct', 'n incorrect','score'], inplace=True)\n",
    "\n",
    "wk04.rename(columns={\n",
    "    wk04.columns[0]: 'which_chatbots',\n",
    "    wk04.columns[1]: 'other_chatbots',\n",
    "    wk04.columns[2]: 'feedback_target',\n",
    "    wk04.columns[3]: 'accuracy',\n",
    "    wk04.columns[4]: 'troubleshooting',\n",
    "    wk04.columns[5]: 'focus',\n",
    "    wk04.columns[6]: 'additional_feedback'\n",
    "}, inplace=True)\n",
    "\n",
    "\n",
    "# wk04.head()\n",
    "\n"
   ]
  },
  {
   "cell_type": "code",
   "execution_count": 19,
   "id": "60c12fc0",
   "metadata": {},
   "outputs": [],
   "source": [
    "wk05= pd.read_csv('weekly_surveys_raw/STA130_2024_week_05_survey.csv')\n",
    "# wk05.columns"
   ]
  },
  {
   "cell_type": "code",
   "execution_count": 20,
   "id": "872b3cf8",
   "metadata": {},
   "outputs": [],
   "source": [
    "wk05.drop(columns=['section','section_id','section_sis_id', \n",
    "                          'submitted','attempt','1.0','1.0.1','1.0.2', \n",
    "                          '1.0.3','1.0.4','1.0.5','n correct', 'n incorrect','score'], inplace=True)\n",
    "# wk05.columns"
   ]
  },
  {
   "cell_type": "code",
   "execution_count": 21,
   "id": "ed9f381b",
   "metadata": {},
   "outputs": [],
   "source": [
    "wk05.rename(columns={\n",
    "    wk05.columns[0]: 'which_chatbots',\n",
    "    wk05.columns[1]: 'feedback_target',\n",
    "    wk05.columns[2]: 'five_star_scale',\n",
    "    wk05.columns[3]: 'learning_support',\n",
    "    wk05.columns[4]: 'focus',\n",
    "    wk05.columns[5]: 'additional_feedback'\n",
    "}, inplace=True)\n",
    "\n",
    "\n",
    "# wk05.head()"
   ]
  },
  {
   "cell_type": "code",
   "execution_count": 22,
   "id": "e8436095",
   "metadata": {},
   "outputs": [],
   "source": [
    "wk05_after_midterm= pd.read_csv('weekly_surveys_raw/STA130_2024_week_05_after_midterm_survey.csv')\n",
    "# wk05_after_midterm.columns"
   ]
  },
  {
   "cell_type": "code",
   "execution_count": 23,
   "id": "9ecdb555",
   "metadata": {},
   "outputs": [
    {
     "data": {
      "text/plain": [
       "Index(['4628602: Question 01\\r\\nWhich ChatBot(s) do you tend to use consistently and generally find helpful or useful for STA130?',\n",
       "       '4628604: Question 02 (Week 05)\\r\\nWhich of these topics will your feedback address? And are your responses based on using ChatGPT or the STA130 custom NBLMChatBot?\\r\\n\\r\\n\"My feedback will be about my experience using a ChatBot for the purposes of...\"\\r\\n\\r\\nWe're just looking for you to highlight particular aspects of your experience that stood out to you. The options here might not be perfect, but we're hoping they provide enough expressivity for you to give us feedback where it makes sense to you.\\r\\n✌️🤞',\n",
       "       '4628605: Question 03 (Five-Star Rating)\\r\\nRate your experience using a ChatBot in STA130 on a Five-Star scale (where 1 is negative and 5 is positive).\\r\\nDid you have a good experience regarding ChatBot support in writing, using, and troubleshooting Python code; and, learning statistical, data science, and Python programming topics and concepts?',\n",
       "       '4628686: Question 04 (Learning Support)\\r\\nRegarding learning statistical, data science, and Python programming topics and concepts (as opposed to just writing, using, and troubleshooting Python code) which of the following did you find to be helpful?',\n",
       "       '4628687: Question 05 (Focus)\\r\\nWas the scope of the responses of the ChatBot appropriately constrained and sufficiently targeted on the desired information?',\n",
       "       '4628688: Further comments or clarifications?\\r\\nFeel free togive us any other details, clarifications, or additional feedback that you feel might be relevant or worth sharing!Any comments provided here will be reviewed and helpful for our ongoing evaluations of ChatBots in the STA130 context.'],\n",
       "      dtype='object')"
      ]
     },
     "execution_count": 23,
     "metadata": {},
     "output_type": "execute_result"
    }
   ],
   "source": [
    "wk05_after_midterm.drop(columns=['section','section_id','section_sis_id', \n",
    "                          'submitted','attempt','1.0','1.0.1','1.0.2', \n",
    "                          '1.0.3','1.0.4','1.0.5','n correct', 'n incorrect','score'], inplace=True)\n",
    "wk05_after_midterm.columns"
   ]
  },
  {
   "cell_type": "code",
   "execution_count": 24,
   "id": "292109d8",
   "metadata": {},
   "outputs": [],
   "source": [
    "wk05_after_midterm.rename(columns={\n",
    "    wk05_after_midterm.columns[0]: 'which_chatbots',\n",
    "    wk05_after_midterm.columns[1]: 'feedback_target',\n",
    "    wk05_after_midterm.columns[2]: 'five_star_scale',\n",
    "    wk05_after_midterm.columns[3]: 'learning_support',\n",
    "    wk05_after_midterm.columns[4]: 'focus',\n",
    "    wk05_after_midterm.columns[5]: 'additional_feedback'\n",
    "}, inplace=True)\n",
    "\n",
    "# wk05_after_midterm.head()"
   ]
  },
  {
   "cell_type": "code",
   "execution_count": 25,
   "id": "990490bd",
   "metadata": {},
   "outputs": [],
   "source": [
    "wk07= pd.read_csv('weekly_surveys_raw/STA130_2024_week_07_survey.csv')\n",
    "# wk07.columns"
   ]
  },
  {
   "cell_type": "code",
   "execution_count": 26,
   "id": "abb2a65a",
   "metadata": {},
   "outputs": [
    {
     "data": {
      "text/plain": [
       "Index(['4644490: Question 01 (follow up)\\r\\nIf you answered \"Other\" above, which (and perhaps why, if you'd like to share)?',\n",
       "       '4390110: Question 01\\r\\nWhich ChatBot(s) are you recently finding helpful or generally useful for STA130?',\n",
       "       '4390111: Midway Question 02\\r\\nWhat are ChatBots helpful for?',\n",
       "       '4628513: Midway Question 05\\r\\nWhich of the following best characterizes your experience with the STA130 Custom NotebookLM ChatBot (STA130NBLMbot)?',\n",
       "       '4390112: Midway Question 03\\r\\nWhich of the following do you think should continue to be a part of (or be added to) STA130?',\n",
       "       '4390113: Midway Question 04\\r\\nWould you be interested in seeing your preferred ChatBots in other STA courses beyond STA130?',\n",
       "       '4628572: Midway Question 06\\r\\nNow that you've seen half of the course, completed the midterm exam, and gotten a sense for what Prof. Scott is trying to do with everything in the course... which of the following would you say apply to you?',\n",
       "       '4628721: Midway question 07\\r\\nAre you worried about the fact that future STA courses are using R instead of Python?',\n",
       "       '4390115: Further comments or clarifications?\\r\\nFeel free togive us any other details, clarifications, or additional feedback that you feel might be relevant or worth sharing!Any comments provided here will be reviewed and helpful for our ongoing evaluations of ChatBots in the STA130 context (and perhaps beyond).'],\n",
       "      dtype='object')"
      ]
     },
     "execution_count": 26,
     "metadata": {},
     "output_type": "execute_result"
    }
   ],
   "source": [
    "wk07.drop(columns=['section','section_id','section_sis_id', \n",
    "                          'submitted','attempt','1.0','1.0.1','1.0.2', \n",
    "                          '1.0.3','1.0.4','1.0.5','1.0.6','1.0.7','1.0.8','n correct', 'n incorrect','score'], inplace=True)\n",
    "wk07.columns"
   ]
  },
  {
   "cell_type": "code",
   "execution_count": 27,
   "id": "e8a04865",
   "metadata": {},
   "outputs": [],
   "source": [
    "wk07.rename(columns={\n",
    "    wk07.columns[0]: 'other_chatbots',\n",
    "    wk07.columns[1]: 'which_chatbots',\n",
    "    wk07.columns[2]: 'chatbots_good_for',\n",
    "    wk07.columns[3]: 'experience_with_notebooklm',\n",
    "    wk07.columns[4]: 'part_of_sta130_doing_good',\n",
    "    wk07.columns[5]: 'preferred_chatbots_other_sta_course',\n",
    "    wk07.columns[6]: 'feeling_about_chatbots_sta130',\n",
    "    wk07.columns[7]: 'worry_about_r_future_sta_course',\n",
    "    wk07.columns[8]: 'additional_feedback'\n",
    "}, inplace=True)\n",
    "\n",
    "\n",
    "# wk07.head()\n"
   ]
  },
  {
   "cell_type": "code",
   "execution_count": 28,
   "id": "ec1cf791",
   "metadata": {},
   "outputs": [],
   "source": [
    "wk09 = pd.read_csv('weekly_surveys_raw/STA130_2024_week_09_survey.csv')\n",
    "# wk09.columns"
   ]
  },
  {
   "cell_type": "code",
   "execution_count": 29,
   "id": "78aad00f",
   "metadata": {},
   "outputs": [],
   "source": [
    "wk09.drop(columns=['section','section_id','section_sis_id', \n",
    "                          'submitted','attempt','1.0','1.0.1','1.0.2', \n",
    "                          '1.0.3','1.0.4','1.0.5','1.0.6','n correct', 'n incorrect','score'], inplace=True)\n",
    "# wk09.columns"
   ]
  },
  {
   "cell_type": "code",
   "execution_count": 30,
   "id": "0af4df66",
   "metadata": {},
   "outputs": [],
   "source": [
    "wk09.rename(columns={\n",
    "    wk09.columns[0]: 'which_chatbots',\n",
    "    wk09.columns[1]: 'feedback_target',\n",
    "    wk09.columns[2]: 'five_star_scale',\n",
    "    wk09.columns[3]: 'learning_support',\n",
    "    wk09.columns[4]: 'focus',\n",
    "    wk09.columns[5]: 'additional_feedback',\n",
    "    wk09.columns[6]: 'feeling_about_chatbots_sta130'\n",
    "}, inplace=True)\n",
    "\n",
    "# wk09.head()"
   ]
  },
  {
   "cell_type": "code",
   "execution_count": 31,
   "id": "582ec06b",
   "metadata": {},
   "outputs": [
    {
     "data": {
      "text/plain": [
       "Index(['4510550: Question 01\\r\\nWhich ChatBot(s) do you tend to use consistently and generally find helpful or useful for STA130?',\n",
       "       '4510552: Question 02 (Week 10)\\r\\nWhich of these topics will your feedback address? And are your responses based on using ChatGPT or the STA130 custom NBLMChatBot?\\r\\n\\r\\n\"My feedback will be about my experience using a ChatBot for the purposes of...\"\\r\\n\\r\\nWe're just looking for you to highlight particular aspects of your experience that stood out to you. The options here might not be perfect, but we're hoping they provide enough expressivity for you to give us feedback where it makes sense to you.\\r\\n✌️🤞',\n",
       "       '4510553: Question 03 (Accuracy)\\r\\nDid the ChatBot provide helpful guidance and working code?',\n",
       "       '4510554: Question 04 (Troubleshooting)\\r\\nIs the ChatBot able to fix programming problemsin two or fewer prompts based on code error messages?',\n",
       "       '4510555: Question 05 (Focus)\\r\\nWas the scope of the responses of the ChatBot appropriately constrained and sufficientlytargetedon the desired information?',\n",
       "       '4659031: Midway Question 06\\r\\nNow that you've seen half of the course, completed the midterm exam, and gotten a sense for what Prof. Scott is trying to do with everything in the course... which of the following would you say apply to you?',\n",
       "       '4510556: Further comments or clarifications?\\r\\nFeel free togive us any other details, clarifications, or additional feedback that you feel might be relevant or worth sharing!Any comments provided here will be reviewed and helpful for our ongoing evaluations of ChatBots in the STA130 context.',\n",
       "       '4510551: Question 01 (follow up)\\r\\nIf you answered \"Other\" above, which (and perhaps why, if you'd like to share)?'],\n",
       "      dtype='object')"
      ]
     },
     "execution_count": 31,
     "metadata": {},
     "output_type": "execute_result"
    }
   ],
   "source": [
    "wk10 = pd.read_csv('weekly_surveys_raw/STA130_2024_week_10_survey.csv')\n",
    "\n",
    "wk10.drop(columns=['name','id', 'sis_id', 'section','section_id','section_sis_id', \n",
    "                          'submitted','attempt','1.0','1.0.1','1.0.2', \n",
    "                          '1.0.3','1.0.4','1.0.5','1.0.6','1.0.7','n correct', 'n incorrect','score'], inplace=True)\n",
    "\n",
    "wk10.columns"
   ]
  },
  {
   "cell_type": "code",
   "execution_count": 32,
   "id": "1cf9f6d4",
   "metadata": {},
   "outputs": [],
   "source": [
    "new_column_names = [\n",
    "    'which_chatbots',  # Column 0\n",
    "    'feedback_target',  # Column 1\n",
    "    'accuracy',  # Column 2\n",
    "    'troubleshooting',  # Column 3\n",
    "    'focus',  # Column 4\n",
    "    'feeling_about_chatbots_sta130',  # Column 5\n",
    "    'additional_feedback',  # Column 6\n",
    "    'other_chatbots'  # Column 7\n",
    "]\n",
    "\n",
    "# Rename the columns using index positions\n",
    "wk10.columns = new_column_names"
   ]
  },
  {
   "cell_type": "code",
   "execution_count": 33,
   "id": "ebb4f393",
   "metadata": {},
   "outputs": [
    {
     "data": {
      "text/plain": [
       "Index(['4484890: Question 01\\r\\nWhich ChatBot(s) do you tend to use consistently and generally find helpful or useful for STA130?',\n",
       "       '4484891: Question 02 (Week 11)\\r\\nWhich of these topics will your feedback address? And are your responses based on using ChatGPT or the STA130 custom NBLMChatBot?\\r\\n\\r\\n\"My feedback will be about my experience using a ChatBot for the purposes of...\"\\r\\n\\r\\nWe're just looking for you to highlight particular aspects of your experience that stood out to you. The options here might not be perfect, but we're hoping they provide enough expressivity for you to give us feedback where it makes sense to you.\\r\\n✌️🤞',\n",
       "       '4484894: Question 03 (Five-Star Rating)\\r\\nRate your experience using a ChatBot in STA130 on a Five-Star scale (where 1 is negative and 5 is positive).\\r\\nDid you have a good experience regarding ChatBot support in writing, using, and troubleshooting Python code; or, learning statistical, data science, and Python programming topics and concepts?',\n",
       "       '4484892: Question 04 (Learning Support)\\r\\nRegarding learning statistical, data science, and Python programming topics and concepts (as opposed to just writing, using, and troubleshooting Python code) which of the following did you find to be helpful?',\n",
       "       '4484893: Question 05 (Focus)\\r\\nWas the scope of the responses of the ChatBot appropriately constrained and sufficiently targeted on the desired information?',\n",
       "       '4669029: Midway Question 06\\r\\nNow that you've seen half of the course, completed the midterm exam, and gotten a sense for what Prof. Scott is trying to do with everything in the course... which of the following would you say apply to you?',\n",
       "       '4484889: Further comments or clarifications?\\r\\nFeel free togive us any other details, clarifications, or additional feedback that you feel might be relevant or worth sharing!Any comments provided here will be reviewed and helpful for our ongoing evaluations of ChatBots in the STA130 context.',\n",
       "       '4510563: Question 01 (follow up)\\r\\nIf you answered \"Other\" above, which (and perhaps why, if you'd like to share)?'],\n",
       "      dtype='object')"
      ]
     },
     "execution_count": 33,
     "metadata": {},
     "output_type": "execute_result"
    }
   ],
   "source": [
    "wk11 = pd.read_csv('weekly_surveys_raw/STA130_2024_week_11_survey.csv')\n",
    "\n",
    "wk11.drop(columns=['section','section_id','section_sis_id', \n",
    "                          'submitted','attempt','1.0','1.0.1','1.0.2', \n",
    "                          '1.0.3','1.0.4','1.0.5','1.0.6','1.0.7','n correct', 'n incorrect','score'], inplace=True)\n",
    "\n",
    "wk11.columns"
   ]
  },
  {
   "cell_type": "code",
   "execution_count": 34,
   "id": "06b84544",
   "metadata": {},
   "outputs": [],
   "source": [
    "new_column_names = [\n",
    "    'which_chatbots',  # Column 0\n",
    "    'feedback_target',  # Column 1\n",
    "    'five_star_scale',  # Column 2\n",
    "    'learning_support',  # Column 3\n",
    "    'focus',  # Column 4\n",
    "    'feeling_about_chatbots_sta130',  # Column 5\n",
    "    'additional_feedback',  # Column 6\n",
    "    'other_chatbots'  # Column 7\n",
    "]\n",
    "\n",
    "# Rename the columns using index positions\n",
    "wk11.columns = new_column_names"
   ]
  },
  {
   "cell_type": "code",
   "execution_count": 35,
   "id": "5c426790",
   "metadata": {},
   "outputs": [
    {
     "data": {
      "text/plain": [
       "Index(['4484884: Question 01\\r\\nWhich ChatBot(s) do you tend to use consistently and generally find helpful or useful for STA130?',\n",
       "       '4484885: Question 02 (Project Week 12)\\r\\nWhich of these topics will your feedback address? And are your responses based on using ChatGPT or the STA130 custom NBLMChatBot?\\r\\n\\r\\n\"My feedback will be about my experience using a ChatBot for the purposes of...\"\\r\\n\\r\\nWe're just looking for you to highlight particular aspects of your experience that stood out to you. The options here might not be perfect, but we're hoping they provide enough expressivity for you to give us feedback where it makes sense to you.\\r\\n✌️🤞',\n",
       "       '4484887: Question 03 (Accuracy)\\r\\nDid the ChatBot provide helpful guidance and working code?',\n",
       "       '4484888: Question 04 (Troubleshooting)\\r\\nIs the ChatBot able to fix programming problemsin two or fewer prompts based on code error messages?',\n",
       "       '4484886: Question 05 (Focus)\\r\\nWas the scope of the responses of the ChatBot appropriately constrained and sufficientlytargetedon the desired information?',\n",
       "       '4484883: Feel free togive us any other details, clarifications, or additional feedback that you feel might be relevant or worth sharing!Any comments provided here will be reviewed and helpful for our ongoing evaluations of ChatBots in the STA130 context.\\r\\n'],\n",
       "      dtype='object')"
      ]
     },
     "execution_count": 35,
     "metadata": {},
     "output_type": "execute_result"
    }
   ],
   "source": [
    "wk12 = pd.read_csv('weekly_surveys_raw/STA130_2024_week_12_survey.csv')\n",
    "\n",
    "wk12.drop(columns=['section','section_id','section_sis_id', \n",
    "                          'submitted','attempt','1.0','1.0.1','1.0.2', \n",
    "                          '1.0.3','1.0.4','1.0.5','n correct', 'n incorrect','score'], inplace=True)\n",
    "\n",
    "wk12.columns"
   ]
  },
  {
   "cell_type": "code",
   "execution_count": 36,
   "id": "e87c9ef1",
   "metadata": {},
   "outputs": [],
   "source": [
    "new_column_names = [\n",
    "    'which_chatbots',  # Column 0\n",
    "    'feedback_target',  # Column 1\n",
    "    'accuracy',  # Column 2\n",
    "    'troubleshooting',  # Column 3\n",
    "    'focus',  # Column 4\n",
    "    'additional_feedback',  # Column 5\n",
    "]\n",
    "\n",
    "# Rename the columns using index positions\n",
    "wk12.columns = new_column_names"
   ]
  },
  {
   "cell_type": "markdown",
   "id": "3e8e550d",
   "metadata": {},
   "source": [
    "## F24 Weekly Surveys"
   ]
  },
  {
   "cell_type": "code",
   "execution_count": 37,
   "id": "561014d5",
   "metadata": {},
   "outputs": [],
   "source": [
    "dataframes = [\n",
    "    ('orientation', orientation),\n",
    "    ('wk02', wk02),\n",
    "    ('wk03', wk03),\n",
    "    ('wk04', wk04),\n",
    "    ('wk05', wk05),\n",
    "    ('wk05_after_midterm', wk05_after_midterm),\n",
    "    ('wk07', wk07),\n",
    "    ('wk09', wk09),\n",
    "    ('wk10', wk10),\n",
    "    ('wk11', wk11),\n",
    "    ('wk12', wk12)\n",
    "]\n",
    "\n",
    "# Add a column to each dataframe indicating its source\n",
    "for name, df in dataframes:\n",
    "    df['source'] = name\n",
    "\n",
    "# Concatenate all dataframes\n",
    "F24_weekly_surveys = pd.concat([df for _, df in dataframes], ignore_index=True)\n",
    "\n",
    "# Save the concatenated dataframe to a CSV file\n",
    "F24_weekly_surveys.to_csv('weekly_surveys_cleaned/F24_weekly_surveys.csv', index=False)"
   ]
  },
  {
   "cell_type": "code",
   "execution_count": 50,
   "id": "82d03ff5",
   "metadata": {},
   "outputs": [],
   "source": [
    "F24_pre.drop(columns=['Id', 'Start time', 'Completion time'], inplace=True)\n",
    "# Define the text to filter out (the \"No...\" answer)\n",
    "text_to_remove = \"No, I do not want my data included in any research publications, but I want to complete the surveys. I understand that I will be compensated 0.5% for completing each of the pre- and post-course ChatBots surveys (for a total compensation of 1% of the overall STA130 course grade). By choosing this option I understand that data collected about me may still be used for the purposes of course feedback, but that it will not be used in any way as part of published study results. I also understand that this choice will in no way affect the way I am graded in STA130.\"\n",
    "\n",
    "# Filter the DataFrame to exclude rows with the \"No...\" answer\n",
    "F24_pre = F24_pre.loc[F24_pre['Please select one of the following:'] != text_to_remove]\n"
   ]
  },
  {
   "cell_type": "code",
   "execution_count": 51,
   "id": "390d9cf3",
   "metadata": {},
   "outputs": [],
   "source": [
    "F24_pre.rename(columns={'Please select one of the following:': 'concent',\n",
    "       'Are you an international student?':'international',\n",
    "                        'Is English your first language?':'ELL',\n",
    "       'Please tick all that apply. You are:':'race',\n",
    "       'What first-year calculus course are you currently taking?': 'calculus_course',\n",
    "       'What first-year programming course are you currently taking?':'cs_course',\n",
    "       'In what statistics program of study have you enrolled or would you like to enrol in (select your first choice)?':'sta_program',\n",
    "       'How would you describe your professional writing ability?':'professional_writing_ability',\n",
    "       'What is your experience with programming prior to starting university in September?':'programming_exprience',\n",
    "       'What is your experience with PYTHON prior to starting university in September?\\n':'python_excprience',\n",
    "       'How do you evaluate your skill level at PYTHON programming?':'python_skill',\n",
    "       F24_pre.columns[11]:'sta_skill',\n",
    "       F24_pre.columns[12]:'sta_in_python_skill',\n",
    "       F24_pre.columns[13]:'feeling_for_python_in_sta',\n",
    "       'How much concern do you have that STA130 will not provide enough structure and support for PYTHON?':'concerns',\n",
    "       'How comfortable are you working independently on your own to understand and use PYTHON code?':'use_python_independently',\n",
    "       'How interested are you in working with AI assistance as part of learning?':'feeling_AI',\n",
    "       'How comfortable are you with self-learning statistical concepts and topics?':'self-learning'\n",
    "}, inplace=True)"
   ]
  },
  {
   "cell_type": "code",
   "execution_count": 54,
   "id": "734c5b3c",
   "metadata": {},
   "outputs": [],
   "source": [
    "F24_post.drop(columns=['Id', 'Start time', 'Completion time','Email', 'Name'], inplace=True)\n"
   ]
  },
  {
   "cell_type": "code",
   "execution_count": null,
   "id": "5af2c904",
   "metadata": {},
   "outputs": [],
   "source": [
    "# now F24_pre and F24_post are ready "
   ]
  },
  {
   "cell_type": "markdown",
   "id": "3a11f83b",
   "metadata": {},
   "source": [
    "## what we have now"
   ]
  },
  {
   "cell_type": "code",
   "execution_count": 39,
   "id": "7ea0d8ca",
   "metadata": {},
   "outputs": [],
   "source": [
    "df_2023_short_col_name\n",
    "F24_weekly_surveys\n",
    "F24_post = pd.read_csv('F24_pre_post_cleaned/F24_post_survey_data.csv')\n",
    "F24_pre = pd.read_excel('F24_pre_post_raw/STA130_Pre_survey_Fall_2024.xlsx')"
   ]
  },
  {
   "cell_type": "code",
   "execution_count": 40,
   "id": "2f92d666",
   "metadata": {},
   "outputs": [],
   "source": [
    "\n",
    "# 1. python is used in other course;\n",
    "# 2. stats close to cs but not cs;\n",
    "# 3. chat also help professional writing too!\n",
    "\n",
    "# see down below "
   ]
  },
  {
   "cell_type": "code",
   "execution_count": 41,
   "id": "d2bc2e09",
   "metadata": {},
   "outputs": [
    {
     "data": {
      "text/plain": [
       "programming_course\n",
       "CSC108 (or equivalent programming experience)    375\n",
       "None of the above                                 98\n",
       "CSC110                                            34\n",
       "CSC148                                            26\n",
       "Name: count, dtype: int64"
      ]
     },
     "execution_count": 41,
     "metadata": {},
     "output_type": "execute_result"
    }
   ],
   "source": [
    "df_2023_short_col_name['programming_course'].value_counts()\n",
    "# python used in 108 and 148, it's good if we can indtroduce stats in same language. \n",
    "# + python is useful!!! "
   ]
  },
  {
   "cell_type": "code",
   "execution_count": 42,
   "id": "bd2205bf",
   "metadata": {
    "scrolled": false
   },
   "outputs": [
    {
     "data": {
      "text/plain": [
       "statistics_program\n",
       "Statistics Major                               254\n",
       "Data Science Specialist                         82\n",
       "None of the above                               79\n",
       "Statistics Minor                                43\n",
       "Actuarial Science Major                         42\n",
       "Actuarial Science Specialist                    15\n",
       "Statistics Specialist: Methods and Practice     14\n",
       "Statistics Specialist: Theory and Methods        4\n",
       "Name: count, dtype: int64"
      ]
     },
     "execution_count": 42,
     "metadata": {},
     "output_type": "execute_result"
    }
   ],
   "source": [
    "df_2023_short_col_name['statistics_program'].value_counts()\n",
    "\n",
    "# most student is stats major or specialist, not DS or CS. \n",
    "# we want student at least can start use code (with AI help)\n",
    "# even if we want student can really code individuly, \n",
    "# coding with AI help still give student a good/easy start,\n",
    "# well, good start is good :)"
   ]
  },
  {
   "cell_type": "code",
   "execution_count": null,
   "id": "90cc07ad",
   "metadata": {},
   "outputs": [],
   "source": []
  },
  {
   "cell_type": "code",
   "execution_count": null,
   "id": "a767a625",
   "metadata": {},
   "outputs": [],
   "source": []
  },
  {
   "cell_type": "code",
   "execution_count": null,
   "id": "4deb5bfa",
   "metadata": {},
   "outputs": [],
   "source": [
    "# here are data for result parts "
   ]
  },
  {
   "cell_type": "code",
   "execution_count": 43,
   "id": "0d446ab2",
   "metadata": {},
   "outputs": [
    {
     "name": "stdout",
     "output_type": "stream",
     "text": [
      "Percentage of 'Good': 40.15%\n"
     ]
    }
   ],
   "source": [
    "# Count the number of occurrences of \"Good\"\n",
    "count_good = df_2023_short_col_name['pre_professional_writing_ability'].value_counts().get('Good', 0)\n",
    "\n",
    "# Total number of rows in the column (excluding NaN values)\n",
    "total_count = df_2023_short_col_name['pre_professional_writing_ability'].notna().sum()\n",
    "\n",
    "# Calculate the percentage\n",
    "percentage_good_pre = (count_good / total_count) * 100\n",
    "\n",
    "# Display the result\n",
    "print(f\"Percentage of 'Good': {percentage_good_pre:.2f}%\")\n"
   ]
  },
  {
   "cell_type": "code",
   "execution_count": 44,
   "id": "c60b9acb",
   "metadata": {},
   "outputs": [
    {
     "name": "stdout",
     "output_type": "stream",
     "text": [
      "Percentage of 'Good': 40.42%\n"
     ]
    }
   ],
   "source": [
    "# Count the number of occurrences of \"Good\"\n",
    "count_good = df_2023_short_col_name['post_professional_writing_ability'].value_counts().get('Good', 0)\n",
    "\n",
    "# Total number of rows in the column (excluding NaN values)\n",
    "total_count = df_2023_short_col_name['post_professional_writing_ability'].notna().sum()\n",
    "\n",
    "# Calculate the percentage\n",
    "percentage_good_post = (count_good / total_count) * 100\n",
    "\n",
    "# Display the result\n",
    "print(f\"Percentage of 'Good': {percentage_good_post:.2f}%\")"
   ]
  },
  {
   "cell_type": "code",
   "execution_count": 59,
   "id": "635eb195",
   "metadata": {},
   "outputs": [
    {
     "name": "stdout",
     "output_type": "stream",
     "text": [
      "Percentage of 'Good': 37.59%\n"
     ]
    }
   ],
   "source": [
    "# here we will check the 2024 pre and post professional_writing_ability\n",
    "\n",
    " # Count the number of occurrences of \"Good\"\n",
    "count_good = F24_pre['professional_writing_ability'].value_counts().get('Good', 0)\n",
    "\n",
    "# Total number of rows in the column (excluding NaN values)\n",
    "total_count = F24_pre['professional_writing_ability'].notna().sum()\n",
    "\n",
    "# Calculate the percentage\n",
    "percentage_good_post = (count_good / total_count) * 100\n",
    "\n",
    "# Display the result\n",
    "print(f\"Percentage of 'Good': {percentage_good_post:.2f}%\")"
   ]
  },
  {
   "cell_type": "code",
   "execution_count": 64,
   "id": "eec14702",
   "metadata": {},
   "outputs": [
    {
     "name": "stdout",
     "output_type": "stream",
     "text": [
      "Percentage of 'Good': 53.70%\n"
     ]
    }
   ],
   "source": [
    " # Count the number of occurrences of \"Good\"\n",
    "count_good = F24_post['how_good_at_after_STA130_writing_for_statisticians'].value_counts().get('Extremely Well', 0)\n",
    "count_good +=F24_post['how_good_at_after_STA130_writing_for_statisticians'].value_counts().get('Reasonably Well', 0)\n",
    "# Total number of rows in the column (excluding NaN values)\n",
    "total_count = F24_post['how_good_at_after_STA130_writing_for_statisticians'].notna().sum()\n",
    "\n",
    "# Calculate the percentage\n",
    "percentage_good_post = (count_good / total_count) * 100\n",
    "\n",
    "# Display the result\n",
    "print(f\"Percentage of 'Good': {percentage_good_post:.2f}%\")"
   ]
  },
  {
   "cell_type": "markdown",
   "id": "415200f2",
   "metadata": {},
   "source": [
    "\n",
    "\n",
    "\n",
    "\n",
    "\n",
    "# We can argue chatbot help with professional writing\n",
    "# in 2023 there is no change in professional_writing_ability 40.15% to 40.42%\n",
    "# in 2024 there is significant change in professional_writing_ability 37.59% to 53.70%\n",
    "\n",
    "\n",
    "\n",
    "\n",
    "\n",
    "\n",
    "\n",
    "\n",
    "\n",
    "\n",
    "\n"
   ]
  },
  {
   "cell_type": "code",
   "execution_count": 47,
   "id": "de199ef4",
   "metadata": {},
   "outputs": [],
   "source": [
    "# we will also see 2024 python_skill_level pre and post "
   ]
  },
  {
   "cell_type": "code",
   "execution_count": 49,
   "id": "59a13450",
   "metadata": {},
   "outputs": [
    {
     "data": {
      "text/plain": [
       "pre_python_skill_level\n",
       "Beginner        409\n",
       "Intermediate    105\n",
       "Advanced         14\n",
       "Other             3\n",
       "Expert            2\n",
       "Name: count, dtype: int64"
      ]
     },
     "execution_count": 49,
     "metadata": {},
     "output_type": "execute_result"
    }
   ],
   "source": [
    "df_2023_short_col_name['pre_python_skill_level'].value_counts()"
   ]
  },
  {
   "cell_type": "code",
   "execution_count": 48,
   "id": "f9faa205",
   "metadata": {},
   "outputs": [
    {
     "data": {
      "text/plain": [
       "post_python_skill_level\n",
       "Beginner        139\n",
       "Intermediate     87\n",
       "Expert           12\n",
       "Advanced          2\n",
       "Name: count, dtype: int64"
      ]
     },
     "execution_count": 48,
     "metadata": {},
     "output_type": "execute_result"
    }
   ],
   "source": [
    "df_2023_short_col_name['post_python_skill_level'].value_counts() \n",
    "# still feel struggle with python after fall semaster (after STA130, CSC108 or other cs course. no good. )"
   ]
  },
  {
   "cell_type": "code",
   "execution_count": 71,
   "id": "dc0c39a0",
   "metadata": {},
   "outputs": [
    {
     "data": {
      "text/plain": [
       "python_skill\n",
       "Beginner        295\n",
       "Intermediate     85\n",
       "Advanced         19\n",
       "Name: count, dtype: int64"
      ]
     },
     "execution_count": 71,
     "metadata": {},
     "output_type": "execute_result"
    }
   ],
   "source": [
    "F24_pre['python_skill'].value_counts()"
   ]
  },
  {
   "cell_type": "code",
   "execution_count": 73,
   "id": "cef439c2",
   "metadata": {},
   "outputs": [
    {
     "data": {
      "text/plain": [
       "how_good_at_after_STA130_using_python\n",
       "Reasonably Well    83\n",
       "Neutral            67\n",
       "Extremely Well     40\n",
       "Not very well      17\n",
       "Not at all          5\n",
       "I don't know        4\n",
       "Name: count, dtype: int64"
      ]
     },
     "execution_count": 73,
     "metadata": {},
     "output_type": "execute_result"
    }
   ],
   "source": [
    "F24_post['how_good_at_after_STA130_using_python'].value_counts()"
   ]
  },
  {
   "cell_type": "code",
   "execution_count": null,
   "id": "b0b0c6c0",
   "metadata": {},
   "outputs": [],
   "source": []
  },
  {
   "cell_type": "code",
   "execution_count": null,
   "id": "d588877a",
   "metadata": {},
   "outputs": [],
   "source": []
  },
  {
   "cell_type": "code",
   "execution_count": null,
   "id": "df3677c0",
   "metadata": {},
   "outputs": [],
   "source": []
  },
  {
   "cell_type": "code",
   "execution_count": null,
   "id": "5f5b0856",
   "metadata": {},
   "outputs": [],
   "source": []
  },
  {
   "cell_type": "code",
   "execution_count": null,
   "id": "5ce94c15",
   "metadata": {},
   "outputs": [],
   "source": []
  },
  {
   "cell_type": "code",
   "execution_count": 57,
   "id": "4321b4d0",
   "metadata": {},
   "outputs": [
    {
     "data": {
      "text/plain": [
       "Index(['concent', 'international', 'ELL', 'race', 'calculus_course',\n",
       "       'cs_course', 'sta_program', 'professional_writing_ability',\n",
       "       'programming_exprience', 'python_excprience', 'python_skill',\n",
       "       'sta_skill', 'sta_in_python_skill', 'feeling_for_python_in_sta',\n",
       "       'concerns', 'use_python_independently', 'feeling_AI', 'self-learning'],\n",
       "      dtype='object')"
      ]
     },
     "execution_count": 57,
     "metadata": {},
     "output_type": "execute_result"
    }
   ],
   "source": [
    "F24_pre.columns\n"
   ]
  },
  {
   "cell_type": "code",
   "execution_count": 56,
   "id": "6c8d1f8e",
   "metadata": {},
   "outputs": [
    {
     "data": {
      "text/plain": [
       "Index(['Beyond the above consent decision, we now additionally request your further consent decisionÂ allowing us to collect and use the text of \"ChatGPT transcript history logs\" along with associated HW answe',\n",
       "       'avg_weekly_hours_on_STA130', '5star_wiki_textbook',\n",
       "       '5star_custom_notebookLM_chatbot', '5star_lectures', '5star_tutorials',\n",
       "       '5star_structure', '5star_homework', '5star_project',\n",
       "       '5star_overall_chatbots',\n",
       "       ...\n",
       "       'how_good_at_after_STA130_using_python',\n",
       "       'how_good_at_after_STA130_writing_for_statisticians',\n",
       "       'how_good_at_after_STA130_speaking_for_statisticians',\n",
       "       'how_good_at_after_STA130_translating_statistical_problems',\n",
       "       'how_good_at_after_STA130_ethics_importance',\n",
       "       'how_good_at_after_STA130_solving_interdisciplinary_problems',\n",
       "       'how_good_at_after_STA130_statistical_problem_solving',\n",
       "       'how_good_at_after_STA130_evaluating_solutions',\n",
       "       'most_interesting_part_of_course', 'what_to_add_or_change_in_course'],\n",
       "      dtype='object', length=107)"
      ]
     },
     "execution_count": 56,
     "metadata": {},
     "output_type": "execute_result"
    }
   ],
   "source": [
    "F24_post.columns\n"
   ]
  },
  {
   "cell_type": "code",
   "execution_count": null,
   "id": "5a7f0408",
   "metadata": {},
   "outputs": [],
   "source": []
  }
 ],
 "metadata": {
  "kernelspec": {
   "display_name": "Python 3 (ipykernel)",
   "language": "python",
   "name": "python3"
  },
  "language_info": {
   "codemirror_mode": {
    "name": "ipython",
    "version": 3
   },
   "file_extension": ".py",
   "mimetype": "text/x-python",
   "name": "python",
   "nbconvert_exporter": "python",
   "pygments_lexer": "ipython3",
   "version": "3.11.6"
  }
 },
 "nbformat": 4,
 "nbformat_minor": 5
}
